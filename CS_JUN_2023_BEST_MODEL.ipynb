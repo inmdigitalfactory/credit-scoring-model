{
 "cells": [
  {
   "cell_type": "code",
   "execution_count": 1,
   "id": "cbb8244e",
   "metadata": {},
   "outputs": [],
   "source": [
    "import warnings\n",
    "\n",
    "warnings.filterwarnings(\"ignore\")\n",
    "\n",
    "import pandas as pd\n",
    "import numpy as np\n",
    "import seaborn as sns\n",
    "import xgboost as xgb\n",
    "import matplotlib.pyplot as plt\n",
    "# !pip install pytorch-tabnet\n",
    "from pytorch_tabnet.tab_model import TabNetClassifier\n",
    "from sklearn.model_selection import train_test_split, cross_val_score, GridSearchCV, StratifiedKFold\n",
    "from sklearn.preprocessing import StandardScaler\n",
    "from sklearn.linear_model import LogisticRegression\n",
    "from sklearn.metrics import accuracy_score, precision_score, recall_score, f1_score, roc_auc_score, roc_curve\n",
    "from sklearn.feature_selection import SelectFromModel\n",
    "from sklearn.metrics import classification_report, confusion_matrix\n",
    "from sklearn.feature_selection import RFECV\n",
    "from sklearn.ensemble import RandomForestClassifier"
   ]
  },
  {
   "cell_type": "code",
   "execution_count": 2,
   "id": "f4b06ef5",
   "metadata": {},
   "outputs": [],
   "source": [
    "# df_F = pd.read_csv(\"model_building.csv\",converters={'CIF_ID': str})"
   ]
  },
  {
   "cell_type": "code",
   "execution_count": 3,
   "id": "8d49d99d",
   "metadata": {
    "scrolled": false
   },
   "outputs": [],
   "source": [
    "# df_F.columns"
   ]
  },
  {
   "cell_type": "code",
   "execution_count": 4,
   "id": "28183674",
   "metadata": {},
   "outputs": [],
   "source": [
    "# df_F.shape"
   ]
  },
  {
   "cell_type": "code",
   "execution_count": 5,
   "id": "bd2a13c8",
   "metadata": {},
   "outputs": [],
   "source": [
    "df_F = pd.read_csv(\"Undersampled_data2.csv\",converters={'CIF_ID': str})\n",
    "# df_2 = pd.read_csv(\"CIPSCORE.csv\",converters={'CIF_ID': str})"
   ]
  },
  {
   "cell_type": "code",
   "execution_count": 6,
   "id": "ce017678",
   "metadata": {},
   "outputs": [],
   "source": [
    "# df_2.columns"
   ]
  },
  {
   "cell_type": "code",
   "execution_count": 7,
   "id": "79b948cd",
   "metadata": {},
   "outputs": [],
   "source": [
    "# df_F = pd.merge(df_1, df_2, how='left', on = 'CIF_ID')"
   ]
  },
  {
   "cell_type": "code",
   "execution_count": 8,
   "id": "666728d8",
   "metadata": {},
   "outputs": [
    {
     "data": {
      "text/html": [
       "<div>\n",
       "<style scoped>\n",
       "    .dataframe tbody tr th:only-of-type {\n",
       "        vertical-align: middle;\n",
       "    }\n",
       "\n",
       "    .dataframe tbody tr th {\n",
       "        vertical-align: top;\n",
       "    }\n",
       "\n",
       "    .dataframe thead th {\n",
       "        text-align: right;\n",
       "    }\n",
       "</style>\n",
       "<table border=\"1\" class=\"dataframe\">\n",
       "  <thead>\n",
       "    <tr style=\"text-align: right;\">\n",
       "      <th></th>\n",
       "      <th>CIF_ID</th>\n",
       "      <th>CUST_AGE</th>\n",
       "      <th>AGE_WITH_BANK</th>\n",
       "      <th>DIS_AMT</th>\n",
       "      <th>REP_PERD_MTHS</th>\n",
       "      <th>FLOW_AMT</th>\n",
       "      <th>NO_OF_INSTALLMENTS</th>\n",
       "      <th>min_cred_amt_6_months</th>\n",
       "      <th>max_cred_amt_6_months</th>\n",
       "      <th>avg_cred_amt_6_months</th>\n",
       "      <th>...</th>\n",
       "      <th>age_with_bank_9-11</th>\n",
       "      <th>age_with_bank_12-15</th>\n",
       "      <th>first_otg_trans_0-4</th>\n",
       "      <th>first_otg_trans_5-8</th>\n",
       "      <th>first_otg_trans_9-11</th>\n",
       "      <th>first_otg_trans_12-15</th>\n",
       "      <th>no_of_inactive_months_otg_0- &lt;3</th>\n",
       "      <th>no_of_inactive_months_otg_3- &lt;6</th>\n",
       "      <th>no_of_inactive_months_otg_6- &lt;9</th>\n",
       "      <th>no_of_inactive_months_otg_9 - 11</th>\n",
       "    </tr>\n",
       "  </thead>\n",
       "  <tbody>\n",
       "    <tr>\n",
       "      <th>0</th>\n",
       "      <td>0008264</td>\n",
       "      <td>32</td>\n",
       "      <td>15</td>\n",
       "      <td>669500.0</td>\n",
       "      <td>60</td>\n",
       "      <td>16295.0</td>\n",
       "      <td>1</td>\n",
       "      <td>9.00</td>\n",
       "      <td>669500.0</td>\n",
       "      <td>34701.441860</td>\n",
       "      <td>...</td>\n",
       "      <td>0</td>\n",
       "      <td>1</td>\n",
       "      <td>1</td>\n",
       "      <td>0</td>\n",
       "      <td>0</td>\n",
       "      <td>0</td>\n",
       "      <td>1</td>\n",
       "      <td>0</td>\n",
       "      <td>0</td>\n",
       "      <td>0</td>\n",
       "    </tr>\n",
       "    <tr>\n",
       "      <th>1</th>\n",
       "      <td>0053272</td>\n",
       "      <td>38</td>\n",
       "      <td>12</td>\n",
       "      <td>2000000.0</td>\n",
       "      <td>60</td>\n",
       "      <td>48720.0</td>\n",
       "      <td>1</td>\n",
       "      <td>0.17</td>\n",
       "      <td>2000000.0</td>\n",
       "      <td>97066.649770</td>\n",
       "      <td>...</td>\n",
       "      <td>0</td>\n",
       "      <td>1</td>\n",
       "      <td>1</td>\n",
       "      <td>0</td>\n",
       "      <td>0</td>\n",
       "      <td>0</td>\n",
       "      <td>1</td>\n",
       "      <td>0</td>\n",
       "      <td>0</td>\n",
       "      <td>0</td>\n",
       "    </tr>\n",
       "    <tr>\n",
       "      <th>2</th>\n",
       "      <td>0076106</td>\n",
       "      <td>32</td>\n",
       "      <td>10</td>\n",
       "      <td>380700.0</td>\n",
       "      <td>60</td>\n",
       "      <td>9119.0</td>\n",
       "      <td>1</td>\n",
       "      <td>2.00</td>\n",
       "      <td>380700.0</td>\n",
       "      <td>23113.000000</td>\n",
       "      <td>...</td>\n",
       "      <td>1</td>\n",
       "      <td>0</td>\n",
       "      <td>1</td>\n",
       "      <td>0</td>\n",
       "      <td>0</td>\n",
       "      <td>0</td>\n",
       "      <td>1</td>\n",
       "      <td>0</td>\n",
       "      <td>0</td>\n",
       "      <td>0</td>\n",
       "    </tr>\n",
       "    <tr>\n",
       "      <th>3</th>\n",
       "      <td>0109326</td>\n",
       "      <td>33</td>\n",
       "      <td>8</td>\n",
       "      <td>2000000.0</td>\n",
       "      <td>60</td>\n",
       "      <td>48124.0</td>\n",
       "      <td>1</td>\n",
       "      <td>2.00</td>\n",
       "      <td>2000000.0</td>\n",
       "      <td>91375.673333</td>\n",
       "      <td>...</td>\n",
       "      <td>1</td>\n",
       "      <td>0</td>\n",
       "      <td>1</td>\n",
       "      <td>0</td>\n",
       "      <td>0</td>\n",
       "      <td>0</td>\n",
       "      <td>1</td>\n",
       "      <td>0</td>\n",
       "      <td>0</td>\n",
       "      <td>0</td>\n",
       "    </tr>\n",
       "    <tr>\n",
       "      <th>4</th>\n",
       "      <td>0145595</td>\n",
       "      <td>33</td>\n",
       "      <td>6</td>\n",
       "      <td>50000.0</td>\n",
       "      <td>1</td>\n",
       "      <td>50617.0</td>\n",
       "      <td>1</td>\n",
       "      <td>1.00</td>\n",
       "      <td>150000.0</td>\n",
       "      <td>10758.582674</td>\n",
       "      <td>...</td>\n",
       "      <td>0</td>\n",
       "      <td>0</td>\n",
       "      <td>0</td>\n",
       "      <td>1</td>\n",
       "      <td>0</td>\n",
       "      <td>0</td>\n",
       "      <td>1</td>\n",
       "      <td>0</td>\n",
       "      <td>0</td>\n",
       "      <td>0</td>\n",
       "    </tr>\n",
       "  </tbody>\n",
       "</table>\n",
       "<p>5 rows × 53 columns</p>\n",
       "</div>"
      ],
      "text/plain": [
       "    CIF_ID  CUST_AGE  AGE_WITH_BANK    DIS_AMT  REP_PERD_MTHS  FLOW_AMT  \\\n",
       "0  0008264        32             15   669500.0             60   16295.0   \n",
       "1  0053272        38             12  2000000.0             60   48720.0   \n",
       "2  0076106        32             10   380700.0             60    9119.0   \n",
       "3  0109326        33              8  2000000.0             60   48124.0   \n",
       "4  0145595        33              6    50000.0              1   50617.0   \n",
       "\n",
       "   NO_OF_INSTALLMENTS  min_cred_amt_6_months  max_cred_amt_6_months  \\\n",
       "0                   1                   9.00               669500.0   \n",
       "1                   1                   0.17              2000000.0   \n",
       "2                   1                   2.00               380700.0   \n",
       "3                   1                   2.00              2000000.0   \n",
       "4                   1                   1.00               150000.0   \n",
       "\n",
       "   avg_cred_amt_6_months  ...  age_with_bank_9-11  age_with_bank_12-15  \\\n",
       "0           34701.441860  ...                   0                    1   \n",
       "1           97066.649770  ...                   0                    1   \n",
       "2           23113.000000  ...                   1                    0   \n",
       "3           91375.673333  ...                   1                    0   \n",
       "4           10758.582674  ...                   0                    0   \n",
       "\n",
       "   first_otg_trans_0-4  first_otg_trans_5-8  first_otg_trans_9-11  \\\n",
       "0                    1                    0                     0   \n",
       "1                    1                    0                     0   \n",
       "2                    1                    0                     0   \n",
       "3                    1                    0                     0   \n",
       "4                    0                    1                     0   \n",
       "\n",
       "   first_otg_trans_12-15  no_of_inactive_months_otg_0- <3  \\\n",
       "0                      0                                1   \n",
       "1                      0                                1   \n",
       "2                      0                                1   \n",
       "3                      0                                1   \n",
       "4                      0                                1   \n",
       "\n",
       "   no_of_inactive_months_otg_3- <6  no_of_inactive_months_otg_6- <9  \\\n",
       "0                                0                                0   \n",
       "1                                0                                0   \n",
       "2                                0                                0   \n",
       "3                                0                                0   \n",
       "4                                0                                0   \n",
       "\n",
       "   no_of_inactive_months_otg_9 - 11  \n",
       "0                                 0  \n",
       "1                                 0  \n",
       "2                                 0  \n",
       "3                                 0  \n",
       "4                                 0  \n",
       "\n",
       "[5 rows x 53 columns]"
      ]
     },
     "execution_count": 8,
     "metadata": {},
     "output_type": "execute_result"
    }
   ],
   "source": [
    "df_F.head(5)"
   ]
  },
  {
   "cell_type": "code",
   "execution_count": 9,
   "id": "218143f7",
   "metadata": {},
   "outputs": [],
   "source": [
    "# cif_id_to_check = '0097577'  # Specify the CIF_ID you want to check\n",
    "\n",
    "# Find the row with the specific CIF_ID\n",
    "# row = df_F.loc[df_F['CIF_ID'] == cif_id_to_check]\n",
    "\n",
    "# Get the age value from the row\n",
    "# age = row['CUST_AGE'].values[0]\n",
    "\n",
    "# print(f\"The age of CIF_ID {cif_id_to_check} is: {age}\")\n"
   ]
  },
  {
   "cell_type": "code",
   "execution_count": 10,
   "id": "0c3ee389",
   "metadata": {},
   "outputs": [],
   "source": [
    "# cif_ids = df_F['CIF_ID'].tolist()"
   ]
  },
  {
   "cell_type": "code",
   "execution_count": 11,
   "id": "b316605f",
   "metadata": {},
   "outputs": [],
   "source": [
    "# cif_ids2 = df['CIF_ID'].unique().tolist()"
   ]
  },
  {
   "cell_type": "code",
   "execution_count": 12,
   "id": "618c1b5b",
   "metadata": {},
   "outputs": [],
   "source": [
    "# len(cif_ids2)"
   ]
  },
  {
   "cell_type": "code",
   "execution_count": 13,
   "id": "6ba9839b",
   "metadata": {},
   "outputs": [],
   "source": [
    "# print(cif_ids)"
   ]
  },
  {
   "cell_type": "code",
   "execution_count": 14,
   "id": "49418986",
   "metadata": {},
   "outputs": [],
   "source": [
    "# Create a DataFrame from the CIF_IDs\n",
    "# df = pd.DataFrame({'CIF_ID': cif_ids})\n",
    "\n",
    "# Export the DataFrame to an Excel file\n",
    "# df.to_excel('cif_ids.xlsx', index=False)"
   ]
  },
  {
   "cell_type": "code",
   "execution_count": 15,
   "id": "972472a4",
   "metadata": {},
   "outputs": [
    {
     "data": {
      "text/plain": [
       "377"
      ]
     },
     "execution_count": 15,
     "metadata": {},
     "output_type": "execute_result"
    }
   ],
   "source": [
    "len(df_F)"
   ]
  },
  {
   "cell_type": "code",
   "execution_count": 16,
   "id": "8df16847",
   "metadata": {},
   "outputs": [],
   "source": [
    "# df_F['cust_age_flag'] = [0 if x < 35 else 1 for x in df_F['CUST_AGE']]\n",
    "# df_F['age_with_im_flag'] = [0 if x < 3 else 1 for x in df_F['AGE_WITH_BANK']]\n",
    "# df_F['eod_flag'] = [0 if x < 5000 else 1 for x in df_F['median_eod_bal_6_months']]\n",
    "# df_F['first_otg_trans_flag'] = [0 if x >= 2 else 1 for x in df_F['first_otg_trans']]"
   ]
  },
  {
   "cell_type": "code",
   "execution_count": 17,
   "id": "3a846094",
   "metadata": {
    "scrolled": false
   },
   "outputs": [
    {
     "data": {
      "text/html": [
       "<div>\n",
       "<style scoped>\n",
       "    .dataframe tbody tr th:only-of-type {\n",
       "        vertical-align: middle;\n",
       "    }\n",
       "\n",
       "    .dataframe tbody tr th {\n",
       "        vertical-align: top;\n",
       "    }\n",
       "\n",
       "    .dataframe thead th {\n",
       "        text-align: right;\n",
       "    }\n",
       "</style>\n",
       "<table border=\"1\" class=\"dataframe\">\n",
       "  <thead>\n",
       "    <tr style=\"text-align: right;\">\n",
       "      <th></th>\n",
       "      <th>count</th>\n",
       "      <th>mean</th>\n",
       "      <th>std</th>\n",
       "      <th>min</th>\n",
       "      <th>25%</th>\n",
       "      <th>50%</th>\n",
       "      <th>75%</th>\n",
       "      <th>max</th>\n",
       "    </tr>\n",
       "  </thead>\n",
       "  <tbody>\n",
       "    <tr>\n",
       "      <th>CUST_AGE</th>\n",
       "      <td>377.0</td>\n",
       "      <td>35.427056</td>\n",
       "      <td>9.233704e+00</td>\n",
       "      <td>20.000000</td>\n",
       "      <td>28.000000</td>\n",
       "      <td>34.000000</td>\n",
       "      <td>4.100000e+01</td>\n",
       "      <td>6.500000e+01</td>\n",
       "    </tr>\n",
       "    <tr>\n",
       "      <th>AGE_WITH_BANK</th>\n",
       "      <td>377.0</td>\n",
       "      <td>3.938992</td>\n",
       "      <td>3.378435e+00</td>\n",
       "      <td>0.000000</td>\n",
       "      <td>1.000000</td>\n",
       "      <td>3.000000</td>\n",
       "      <td>5.000000e+00</td>\n",
       "      <td>1.500000e+01</td>\n",
       "    </tr>\n",
       "    <tr>\n",
       "      <th>DIS_AMT</th>\n",
       "      <td>377.0</td>\n",
       "      <td>815473.995199</td>\n",
       "      <td>8.859072e+05</td>\n",
       "      <td>2975.450000</td>\n",
       "      <td>171200.000000</td>\n",
       "      <td>428900.000000</td>\n",
       "      <td>1.100000e+06</td>\n",
       "      <td>3.000000e+06</td>\n",
       "    </tr>\n",
       "    <tr>\n",
       "      <th>REP_PERD_MTHS</th>\n",
       "      <td>377.0</td>\n",
       "      <td>48.885942</td>\n",
       "      <td>1.777026e+01</td>\n",
       "      <td>1.000000</td>\n",
       "      <td>36.000000</td>\n",
       "      <td>60.000000</td>\n",
       "      <td>6.000000e+01</td>\n",
       "      <td>6.000000e+01</td>\n",
       "    </tr>\n",
       "    <tr>\n",
       "      <th>FLOW_AMT</th>\n",
       "      <td>377.0</td>\n",
       "      <td>24401.245225</td>\n",
       "      <td>2.866564e+04</td>\n",
       "      <td>1043.000000</td>\n",
       "      <td>6305.000000</td>\n",
       "      <td>12888.000000</td>\n",
       "      <td>3.261800e+04</td>\n",
       "      <td>2.492640e+05</td>\n",
       "    </tr>\n",
       "    <tr>\n",
       "      <th>NO_OF_INSTALLMENTS</th>\n",
       "      <td>377.0</td>\n",
       "      <td>1.045093</td>\n",
       "      <td>2.202116e-01</td>\n",
       "      <td>1.000000</td>\n",
       "      <td>1.000000</td>\n",
       "      <td>1.000000</td>\n",
       "      <td>1.000000e+00</td>\n",
       "      <td>3.000000e+00</td>\n",
       "    </tr>\n",
       "    <tr>\n",
       "      <th>min_cred_amt_6_months</th>\n",
       "      <td>377.0</td>\n",
       "      <td>3965.797692</td>\n",
       "      <td>1.100283e+04</td>\n",
       "      <td>0.040000</td>\n",
       "      <td>2.000000</td>\n",
       "      <td>6.000000</td>\n",
       "      <td>1.000000e+03</td>\n",
       "      <td>9.738300e+04</td>\n",
       "    </tr>\n",
       "    <tr>\n",
       "      <th>max_cred_amt_6_months</th>\n",
       "      <td>377.0</td>\n",
       "      <td>907582.287931</td>\n",
       "      <td>1.384632e+06</td>\n",
       "      <td>656.930000</td>\n",
       "      <td>180000.000000</td>\n",
       "      <td>450000.000000</td>\n",
       "      <td>1.200000e+06</td>\n",
       "      <td>2.023608e+07</td>\n",
       "    </tr>\n",
       "    <tr>\n",
       "      <th>avg_cred_amt_6_months</th>\n",
       "      <td>377.0</td>\n",
       "      <td>71898.717100</td>\n",
       "      <td>1.125224e+05</td>\n",
       "      <td>95.082191</td>\n",
       "      <td>21405.250000</td>\n",
       "      <td>38017.142857</td>\n",
       "      <td>7.542977e+04</td>\n",
       "      <td>1.148812e+06</td>\n",
       "    </tr>\n",
       "    <tr>\n",
       "      <th>median_cred_amt_6_months</th>\n",
       "      <td>377.0</td>\n",
       "      <td>30235.990477</td>\n",
       "      <td>7.605612e+04</td>\n",
       "      <td>2.000000</td>\n",
       "      <td>2525.000000</td>\n",
       "      <td>12399.500000</td>\n",
       "      <td>3.024300e+04</td>\n",
       "      <td>9.416000e+05</td>\n",
       "    </tr>\n",
       "    <tr>\n",
       "      <th>avg_monthly_cred_count_6_months</th>\n",
       "      <td>377.0</td>\n",
       "      <td>14.743583</td>\n",
       "      <td>7.947652e+01</td>\n",
       "      <td>1.000000</td>\n",
       "      <td>2.000000</td>\n",
       "      <td>4.285714</td>\n",
       "      <td>1.014286e+01</td>\n",
       "      <td>1.475714e+03</td>\n",
       "    </tr>\n",
       "    <tr>\n",
       "      <th>avg_eod_bal_6_months</th>\n",
       "      <td>377.0</td>\n",
       "      <td>77569.041667</td>\n",
       "      <td>1.633570e+05</td>\n",
       "      <td>322.190000</td>\n",
       "      <td>9946.802222</td>\n",
       "      <td>24370.637647</td>\n",
       "      <td>6.461336e+04</td>\n",
       "      <td>1.205698e+06</td>\n",
       "    </tr>\n",
       "    <tr>\n",
       "      <th>median_eod_bal_6_months</th>\n",
       "      <td>377.0</td>\n",
       "      <td>38716.682931</td>\n",
       "      <td>1.147241e+05</td>\n",
       "      <td>0.000000</td>\n",
       "      <td>645.000000</td>\n",
       "      <td>4504.000000</td>\n",
       "      <td>1.732915e+04</td>\n",
       "      <td>1.063548e+06</td>\n",
       "    </tr>\n",
       "    <tr>\n",
       "      <th>min_debit_amt_6_months</th>\n",
       "      <td>377.0</td>\n",
       "      <td>54.129655</td>\n",
       "      <td>5.315074e+02</td>\n",
       "      <td>0.010000</td>\n",
       "      <td>1.000000</td>\n",
       "      <td>6.000000</td>\n",
       "      <td>1.000000e+01</td>\n",
       "      <td>9.732000e+03</td>\n",
       "    </tr>\n",
       "    <tr>\n",
       "      <th>max_debit_amt_6_months</th>\n",
       "      <td>377.0</td>\n",
       "      <td>347190.686472</td>\n",
       "      <td>1.305214e+06</td>\n",
       "      <td>140.000000</td>\n",
       "      <td>39731.000000</td>\n",
       "      <td>87100.000000</td>\n",
       "      <td>2.500000e+05</td>\n",
       "      <td>2.023608e+07</td>\n",
       "    </tr>\n",
       "    <tr>\n",
       "      <th>avg_debit_amt_6_months</th>\n",
       "      <td>377.0</td>\n",
       "      <td>17199.266117</td>\n",
       "      <td>4.765336e+04</td>\n",
       "      <td>140.000000</td>\n",
       "      <td>3628.053733</td>\n",
       "      <td>6274.210526</td>\n",
       "      <td>1.334737e+04</td>\n",
       "      <td>5.820921e+05</td>\n",
       "    </tr>\n",
       "    <tr>\n",
       "      <th>median_debit_amt_6_months</th>\n",
       "      <td>377.0</td>\n",
       "      <td>5193.262825</td>\n",
       "      <td>3.482863e+04</td>\n",
       "      <td>5.000000</td>\n",
       "      <td>345.865000</td>\n",
       "      <td>1015.000000</td>\n",
       "      <td>3.000000e+03</td>\n",
       "      <td>6.500000e+05</td>\n",
       "    </tr>\n",
       "    <tr>\n",
       "      <th>avg_monthly_debit_count_6_months</th>\n",
       "      <td>377.0</td>\n",
       "      <td>24.962044</td>\n",
       "      <td>2.547160e+01</td>\n",
       "      <td>1.000000</td>\n",
       "      <td>8.500000</td>\n",
       "      <td>15.571429</td>\n",
       "      <td>3.114286e+01</td>\n",
       "      <td>2.017143e+02</td>\n",
       "    </tr>\n",
       "    <tr>\n",
       "      <th>no_of_non_loan_accounts</th>\n",
       "      <td>377.0</td>\n",
       "      <td>1.944297</td>\n",
       "      <td>9.422560e-01</td>\n",
       "      <td>1.000000</td>\n",
       "      <td>1.000000</td>\n",
       "      <td>2.000000</td>\n",
       "      <td>2.000000e+00</td>\n",
       "      <td>7.000000e+00</td>\n",
       "    </tr>\n",
       "    <tr>\n",
       "      <th>no_of_loan_accounts</th>\n",
       "      <td>377.0</td>\n",
       "      <td>0.217507</td>\n",
       "      <td>8.091308e-01</td>\n",
       "      <td>0.000000</td>\n",
       "      <td>0.000000</td>\n",
       "      <td>0.000000</td>\n",
       "      <td>0.000000e+00</td>\n",
       "      <td>7.000000e+00</td>\n",
       "    </tr>\n",
       "    <tr>\n",
       "      <th>first_otg_trans</th>\n",
       "      <td>377.0</td>\n",
       "      <td>3.323607</td>\n",
       "      <td>3.654828e+00</td>\n",
       "      <td>0.000000</td>\n",
       "      <td>0.000000</td>\n",
       "      <td>2.000000</td>\n",
       "      <td>6.000000e+00</td>\n",
       "      <td>1.200000e+01</td>\n",
       "    </tr>\n",
       "    <tr>\n",
       "      <th>number_of_months_active_otg</th>\n",
       "      <td>377.0</td>\n",
       "      <td>2.875332</td>\n",
       "      <td>3.400227e+00</td>\n",
       "      <td>-1.000000</td>\n",
       "      <td>0.000000</td>\n",
       "      <td>1.000000</td>\n",
       "      <td>6.000000e+00</td>\n",
       "      <td>1.200000e+01</td>\n",
       "    </tr>\n",
       "    <tr>\n",
       "      <th>avg_otg_tran_amt</th>\n",
       "      <td>377.0</td>\n",
       "      <td>8574.399067</td>\n",
       "      <td>1.890174e+04</td>\n",
       "      <td>0.000000</td>\n",
       "      <td>0.000000</td>\n",
       "      <td>1731.443299</td>\n",
       "      <td>8.376596e+03</td>\n",
       "      <td>1.400000e+05</td>\n",
       "    </tr>\n",
       "    <tr>\n",
       "      <th>median_otg_tran_amount</th>\n",
       "      <td>377.0</td>\n",
       "      <td>3880.525199</td>\n",
       "      <td>1.188169e+04</td>\n",
       "      <td>0.000000</td>\n",
       "      <td>0.000000</td>\n",
       "      <td>500.000000</td>\n",
       "      <td>2.155000e+03</td>\n",
       "      <td>1.400000e+05</td>\n",
       "    </tr>\n",
       "    <tr>\n",
       "      <th>avg_monthly_otg_trans_count</th>\n",
       "      <td>377.0</td>\n",
       "      <td>11.392744</td>\n",
       "      <td>1.818815e+01</td>\n",
       "      <td>0.000000</td>\n",
       "      <td>0.000000</td>\n",
       "      <td>3.857143</td>\n",
       "      <td>1.666667e+01</td>\n",
       "      <td>1.111429e+02</td>\n",
       "    </tr>\n",
       "    <tr>\n",
       "      <th>avg_debit_to_credit_amt_ratio</th>\n",
       "      <td>377.0</td>\n",
       "      <td>0.389006</td>\n",
       "      <td>1.372750e+00</td>\n",
       "      <td>0.019165</td>\n",
       "      <td>0.119473</td>\n",
       "      <td>0.181304</td>\n",
       "      <td>3.245945e-01</td>\n",
       "      <td>2.046514e+01</td>\n",
       "    </tr>\n",
       "    <tr>\n",
       "      <th>median_debit_to_credit_amt_ratio</th>\n",
       "      <td>377.0</td>\n",
       "      <td>7.622589</td>\n",
       "      <td>3.085340e+01</td>\n",
       "      <td>0.000048</td>\n",
       "      <td>0.031339</td>\n",
       "      <td>0.140000</td>\n",
       "      <td>6.300000e-01</td>\n",
       "      <td>3.353205e+02</td>\n",
       "    </tr>\n",
       "    <tr>\n",
       "      <th>DEFAULT_STATUS_ENCODED</th>\n",
       "      <td>377.0</td>\n",
       "      <td>0.530504</td>\n",
       "      <td>4.997319e-01</td>\n",
       "      <td>0.000000</td>\n",
       "      <td>0.000000</td>\n",
       "      <td>1.000000</td>\n",
       "      <td>1.000000e+00</td>\n",
       "      <td>1.000000e+00</td>\n",
       "    </tr>\n",
       "    <tr>\n",
       "      <th>number_of_inactive_months_otg</th>\n",
       "      <td>377.0</td>\n",
       "      <td>0.448276</td>\n",
       "      <td>1.336120e+00</td>\n",
       "      <td>0.000000</td>\n",
       "      <td>0.000000</td>\n",
       "      <td>0.000000</td>\n",
       "      <td>0.000000e+00</td>\n",
       "      <td>1.100000e+01</td>\n",
       "    </tr>\n",
       "    <tr>\n",
       "      <th>MARITALSTATUS_MARRIED</th>\n",
       "      <td>377.0</td>\n",
       "      <td>0.204244</td>\n",
       "      <td>4.036839e-01</td>\n",
       "      <td>0.000000</td>\n",
       "      <td>0.000000</td>\n",
       "      <td>0.000000</td>\n",
       "      <td>0.000000e+00</td>\n",
       "      <td>1.000000e+00</td>\n",
       "    </tr>\n",
       "    <tr>\n",
       "      <th>MARITALSTATUS_SINGLE</th>\n",
       "      <td>377.0</td>\n",
       "      <td>0.795756</td>\n",
       "      <td>4.036839e-01</td>\n",
       "      <td>0.000000</td>\n",
       "      <td>1.000000</td>\n",
       "      <td>1.000000</td>\n",
       "      <td>1.000000e+00</td>\n",
       "      <td>1.000000e+00</td>\n",
       "    </tr>\n",
       "    <tr>\n",
       "      <th>SEGMENTATION_CLASS_BL03_OR_BLO5</th>\n",
       "      <td>377.0</td>\n",
       "      <td>0.896552</td>\n",
       "      <td>3.049482e-01</td>\n",
       "      <td>0.000000</td>\n",
       "      <td>1.000000</td>\n",
       "      <td>1.000000</td>\n",
       "      <td>1.000000e+00</td>\n",
       "      <td>1.000000e+00</td>\n",
       "    </tr>\n",
       "    <tr>\n",
       "      <th>OTG_TRANSACTING_FLAG</th>\n",
       "      <td>377.0</td>\n",
       "      <td>0.790451</td>\n",
       "      <td>4.075276e-01</td>\n",
       "      <td>0.000000</td>\n",
       "      <td>1.000000</td>\n",
       "      <td>1.000000</td>\n",
       "      <td>1.000000e+00</td>\n",
       "      <td>1.000000e+00</td>\n",
       "    </tr>\n",
       "    <tr>\n",
       "      <th>cust_age_19-20</th>\n",
       "      <td>377.0</td>\n",
       "      <td>0.206897</td>\n",
       "      <td>4.056190e-01</td>\n",
       "      <td>0.000000</td>\n",
       "      <td>0.000000</td>\n",
       "      <td>0.000000</td>\n",
       "      <td>0.000000e+00</td>\n",
       "      <td>1.000000e+00</td>\n",
       "    </tr>\n",
       "    <tr>\n",
       "      <th>cust_age_21-30</th>\n",
       "      <td>377.0</td>\n",
       "      <td>0.358090</td>\n",
       "      <td>4.800760e-01</td>\n",
       "      <td>0.000000</td>\n",
       "      <td>0.000000</td>\n",
       "      <td>0.000000</td>\n",
       "      <td>1.000000e+00</td>\n",
       "      <td>1.000000e+00</td>\n",
       "    </tr>\n",
       "    <tr>\n",
       "      <th>cust_age_31-40</th>\n",
       "      <td>377.0</td>\n",
       "      <td>0.254642</td>\n",
       "      <td>4.362387e-01</td>\n",
       "      <td>0.000000</td>\n",
       "      <td>0.000000</td>\n",
       "      <td>0.000000</td>\n",
       "      <td>1.000000e+00</td>\n",
       "      <td>1.000000e+00</td>\n",
       "    </tr>\n",
       "    <tr>\n",
       "      <th>cust_age_41-50</th>\n",
       "      <td>377.0</td>\n",
       "      <td>0.087533</td>\n",
       "      <td>2.829903e-01</td>\n",
       "      <td>0.000000</td>\n",
       "      <td>0.000000</td>\n",
       "      <td>0.000000</td>\n",
       "      <td>0.000000e+00</td>\n",
       "      <td>1.000000e+00</td>\n",
       "    </tr>\n",
       "    <tr>\n",
       "      <th>cust_age_51-60</th>\n",
       "      <td>377.0</td>\n",
       "      <td>0.074271</td>\n",
       "      <td>2.625591e-01</td>\n",
       "      <td>0.000000</td>\n",
       "      <td>0.000000</td>\n",
       "      <td>0.000000</td>\n",
       "      <td>0.000000e+00</td>\n",
       "      <td>1.000000e+00</td>\n",
       "    </tr>\n",
       "    <tr>\n",
       "      <th>cust_age_61-70</th>\n",
       "      <td>377.0</td>\n",
       "      <td>0.018568</td>\n",
       "      <td>1.351715e-01</td>\n",
       "      <td>0.000000</td>\n",
       "      <td>0.000000</td>\n",
       "      <td>0.000000</td>\n",
       "      <td>0.000000e+00</td>\n",
       "      <td>1.000000e+00</td>\n",
       "    </tr>\n",
       "    <tr>\n",
       "      <th>cust_age_71-80</th>\n",
       "      <td>377.0</td>\n",
       "      <td>0.000000</td>\n",
       "      <td>0.000000e+00</td>\n",
       "      <td>0.000000</td>\n",
       "      <td>0.000000</td>\n",
       "      <td>0.000000</td>\n",
       "      <td>0.000000e+00</td>\n",
       "      <td>0.000000e+00</td>\n",
       "    </tr>\n",
       "    <tr>\n",
       "      <th>age_with_bank_0-4</th>\n",
       "      <td>377.0</td>\n",
       "      <td>0.578249</td>\n",
       "      <td>4.944953e-01</td>\n",
       "      <td>0.000000</td>\n",
       "      <td>0.000000</td>\n",
       "      <td>1.000000</td>\n",
       "      <td>1.000000e+00</td>\n",
       "      <td>1.000000e+00</td>\n",
       "    </tr>\n",
       "    <tr>\n",
       "      <th>age_with_bank_5-8</th>\n",
       "      <td>377.0</td>\n",
       "      <td>0.265252</td>\n",
       "      <td>4.420540e-01</td>\n",
       "      <td>0.000000</td>\n",
       "      <td>0.000000</td>\n",
       "      <td>0.000000</td>\n",
       "      <td>1.000000e+00</td>\n",
       "      <td>1.000000e+00</td>\n",
       "    </tr>\n",
       "    <tr>\n",
       "      <th>age_with_bank_9-11</th>\n",
       "      <td>377.0</td>\n",
       "      <td>0.111406</td>\n",
       "      <td>3.150522e-01</td>\n",
       "      <td>0.000000</td>\n",
       "      <td>0.000000</td>\n",
       "      <td>0.000000</td>\n",
       "      <td>0.000000e+00</td>\n",
       "      <td>1.000000e+00</td>\n",
       "    </tr>\n",
       "    <tr>\n",
       "      <th>age_with_bank_12-15</th>\n",
       "      <td>377.0</td>\n",
       "      <td>0.045093</td>\n",
       "      <td>2.077835e-01</td>\n",
       "      <td>0.000000</td>\n",
       "      <td>0.000000</td>\n",
       "      <td>0.000000</td>\n",
       "      <td>0.000000e+00</td>\n",
       "      <td>1.000000e+00</td>\n",
       "    </tr>\n",
       "    <tr>\n",
       "      <th>first_otg_trans_0-4</th>\n",
       "      <td>377.0</td>\n",
       "      <td>0.554377</td>\n",
       "      <td>4.976949e-01</td>\n",
       "      <td>0.000000</td>\n",
       "      <td>0.000000</td>\n",
       "      <td>1.000000</td>\n",
       "      <td>1.000000e+00</td>\n",
       "      <td>1.000000e+00</td>\n",
       "    </tr>\n",
       "    <tr>\n",
       "      <th>first_otg_trans_5-8</th>\n",
       "      <td>377.0</td>\n",
       "      <td>0.286472</td>\n",
       "      <td>4.527135e-01</td>\n",
       "      <td>0.000000</td>\n",
       "      <td>0.000000</td>\n",
       "      <td>0.000000</td>\n",
       "      <td>1.000000e+00</td>\n",
       "      <td>1.000000e+00</td>\n",
       "    </tr>\n",
       "    <tr>\n",
       "      <th>first_otg_trans_9-11</th>\n",
       "      <td>377.0</td>\n",
       "      <td>0.140584</td>\n",
       "      <td>3.480534e-01</td>\n",
       "      <td>0.000000</td>\n",
       "      <td>0.000000</td>\n",
       "      <td>0.000000</td>\n",
       "      <td>0.000000e+00</td>\n",
       "      <td>1.000000e+00</td>\n",
       "    </tr>\n",
       "    <tr>\n",
       "      <th>first_otg_trans_12-15</th>\n",
       "      <td>377.0</td>\n",
       "      <td>0.018568</td>\n",
       "      <td>1.351715e-01</td>\n",
       "      <td>0.000000</td>\n",
       "      <td>0.000000</td>\n",
       "      <td>0.000000</td>\n",
       "      <td>0.000000e+00</td>\n",
       "      <td>1.000000e+00</td>\n",
       "    </tr>\n",
       "    <tr>\n",
       "      <th>no_of_inactive_months_otg_0- &lt;3</th>\n",
       "      <td>377.0</td>\n",
       "      <td>0.944297</td>\n",
       "      <td>2.296519e-01</td>\n",
       "      <td>0.000000</td>\n",
       "      <td>1.000000</td>\n",
       "      <td>1.000000</td>\n",
       "      <td>1.000000e+00</td>\n",
       "      <td>1.000000e+00</td>\n",
       "    </tr>\n",
       "    <tr>\n",
       "      <th>no_of_inactive_months_otg_3- &lt;6</th>\n",
       "      <td>377.0</td>\n",
       "      <td>0.031830</td>\n",
       "      <td>1.757812e-01</td>\n",
       "      <td>0.000000</td>\n",
       "      <td>0.000000</td>\n",
       "      <td>0.000000</td>\n",
       "      <td>0.000000e+00</td>\n",
       "      <td>1.000000e+00</td>\n",
       "    </tr>\n",
       "    <tr>\n",
       "      <th>no_of_inactive_months_otg_6- &lt;9</th>\n",
       "      <td>377.0</td>\n",
       "      <td>0.018568</td>\n",
       "      <td>1.351715e-01</td>\n",
       "      <td>0.000000</td>\n",
       "      <td>0.000000</td>\n",
       "      <td>0.000000</td>\n",
       "      <td>0.000000e+00</td>\n",
       "      <td>1.000000e+00</td>\n",
       "    </tr>\n",
       "    <tr>\n",
       "      <th>no_of_inactive_months_otg_9 - 11</th>\n",
       "      <td>377.0</td>\n",
       "      <td>0.005305</td>\n",
       "      <td>7.273878e-02</td>\n",
       "      <td>0.000000</td>\n",
       "      <td>0.000000</td>\n",
       "      <td>0.000000</td>\n",
       "      <td>0.000000e+00</td>\n",
       "      <td>1.000000e+00</td>\n",
       "    </tr>\n",
       "  </tbody>\n",
       "</table>\n",
       "</div>"
      ],
      "text/plain": [
       "                                  count           mean           std  \\\n",
       "CUST_AGE                          377.0      35.427056  9.233704e+00   \n",
       "AGE_WITH_BANK                     377.0       3.938992  3.378435e+00   \n",
       "DIS_AMT                           377.0  815473.995199  8.859072e+05   \n",
       "REP_PERD_MTHS                     377.0      48.885942  1.777026e+01   \n",
       "FLOW_AMT                          377.0   24401.245225  2.866564e+04   \n",
       "NO_OF_INSTALLMENTS                377.0       1.045093  2.202116e-01   \n",
       "min_cred_amt_6_months             377.0    3965.797692  1.100283e+04   \n",
       "max_cred_amt_6_months             377.0  907582.287931  1.384632e+06   \n",
       "avg_cred_amt_6_months             377.0   71898.717100  1.125224e+05   \n",
       "median_cred_amt_6_months          377.0   30235.990477  7.605612e+04   \n",
       "avg_monthly_cred_count_6_months   377.0      14.743583  7.947652e+01   \n",
       "avg_eod_bal_6_months              377.0   77569.041667  1.633570e+05   \n",
       "median_eod_bal_6_months           377.0   38716.682931  1.147241e+05   \n",
       "min_debit_amt_6_months            377.0      54.129655  5.315074e+02   \n",
       "max_debit_amt_6_months            377.0  347190.686472  1.305214e+06   \n",
       "avg_debit_amt_6_months            377.0   17199.266117  4.765336e+04   \n",
       "median_debit_amt_6_months         377.0    5193.262825  3.482863e+04   \n",
       "avg_monthly_debit_count_6_months  377.0      24.962044  2.547160e+01   \n",
       "no_of_non_loan_accounts           377.0       1.944297  9.422560e-01   \n",
       "no_of_loan_accounts               377.0       0.217507  8.091308e-01   \n",
       "first_otg_trans                   377.0       3.323607  3.654828e+00   \n",
       "number_of_months_active_otg       377.0       2.875332  3.400227e+00   \n",
       "avg_otg_tran_amt                  377.0    8574.399067  1.890174e+04   \n",
       "median_otg_tran_amount            377.0    3880.525199  1.188169e+04   \n",
       "avg_monthly_otg_trans_count       377.0      11.392744  1.818815e+01   \n",
       "avg_debit_to_credit_amt_ratio     377.0       0.389006  1.372750e+00   \n",
       "median_debit_to_credit_amt_ratio  377.0       7.622589  3.085340e+01   \n",
       "DEFAULT_STATUS_ENCODED            377.0       0.530504  4.997319e-01   \n",
       "number_of_inactive_months_otg     377.0       0.448276  1.336120e+00   \n",
       "MARITALSTATUS_MARRIED             377.0       0.204244  4.036839e-01   \n",
       "MARITALSTATUS_SINGLE              377.0       0.795756  4.036839e-01   \n",
       "SEGMENTATION_CLASS_BL03_OR_BLO5   377.0       0.896552  3.049482e-01   \n",
       "OTG_TRANSACTING_FLAG              377.0       0.790451  4.075276e-01   \n",
       "cust_age_19-20                    377.0       0.206897  4.056190e-01   \n",
       "cust_age_21-30                    377.0       0.358090  4.800760e-01   \n",
       "cust_age_31-40                    377.0       0.254642  4.362387e-01   \n",
       "cust_age_41-50                    377.0       0.087533  2.829903e-01   \n",
       "cust_age_51-60                    377.0       0.074271  2.625591e-01   \n",
       "cust_age_61-70                    377.0       0.018568  1.351715e-01   \n",
       "cust_age_71-80                    377.0       0.000000  0.000000e+00   \n",
       "age_with_bank_0-4                 377.0       0.578249  4.944953e-01   \n",
       "age_with_bank_5-8                 377.0       0.265252  4.420540e-01   \n",
       "age_with_bank_9-11                377.0       0.111406  3.150522e-01   \n",
       "age_with_bank_12-15               377.0       0.045093  2.077835e-01   \n",
       "first_otg_trans_0-4               377.0       0.554377  4.976949e-01   \n",
       "first_otg_trans_5-8               377.0       0.286472  4.527135e-01   \n",
       "first_otg_trans_9-11              377.0       0.140584  3.480534e-01   \n",
       "first_otg_trans_12-15             377.0       0.018568  1.351715e-01   \n",
       "no_of_inactive_months_otg_0- <3   377.0       0.944297  2.296519e-01   \n",
       "no_of_inactive_months_otg_3- <6   377.0       0.031830  1.757812e-01   \n",
       "no_of_inactive_months_otg_6- <9   377.0       0.018568  1.351715e-01   \n",
       "no_of_inactive_months_otg_9 - 11  377.0       0.005305  7.273878e-02   \n",
       "\n",
       "                                          min            25%            50%  \\\n",
       "CUST_AGE                            20.000000      28.000000      34.000000   \n",
       "AGE_WITH_BANK                        0.000000       1.000000       3.000000   \n",
       "DIS_AMT                           2975.450000  171200.000000  428900.000000   \n",
       "REP_PERD_MTHS                        1.000000      36.000000      60.000000   \n",
       "FLOW_AMT                          1043.000000    6305.000000   12888.000000   \n",
       "NO_OF_INSTALLMENTS                   1.000000       1.000000       1.000000   \n",
       "min_cred_amt_6_months                0.040000       2.000000       6.000000   \n",
       "max_cred_amt_6_months              656.930000  180000.000000  450000.000000   \n",
       "avg_cred_amt_6_months               95.082191   21405.250000   38017.142857   \n",
       "median_cred_amt_6_months             2.000000    2525.000000   12399.500000   \n",
       "avg_monthly_cred_count_6_months      1.000000       2.000000       4.285714   \n",
       "avg_eod_bal_6_months               322.190000    9946.802222   24370.637647   \n",
       "median_eod_bal_6_months              0.000000     645.000000    4504.000000   \n",
       "min_debit_amt_6_months               0.010000       1.000000       6.000000   \n",
       "max_debit_amt_6_months             140.000000   39731.000000   87100.000000   \n",
       "avg_debit_amt_6_months             140.000000    3628.053733    6274.210526   \n",
       "median_debit_amt_6_months            5.000000     345.865000    1015.000000   \n",
       "avg_monthly_debit_count_6_months     1.000000       8.500000      15.571429   \n",
       "no_of_non_loan_accounts              1.000000       1.000000       2.000000   \n",
       "no_of_loan_accounts                  0.000000       0.000000       0.000000   \n",
       "first_otg_trans                      0.000000       0.000000       2.000000   \n",
       "number_of_months_active_otg         -1.000000       0.000000       1.000000   \n",
       "avg_otg_tran_amt                     0.000000       0.000000    1731.443299   \n",
       "median_otg_tran_amount               0.000000       0.000000     500.000000   \n",
       "avg_monthly_otg_trans_count          0.000000       0.000000       3.857143   \n",
       "avg_debit_to_credit_amt_ratio        0.019165       0.119473       0.181304   \n",
       "median_debit_to_credit_amt_ratio     0.000048       0.031339       0.140000   \n",
       "DEFAULT_STATUS_ENCODED               0.000000       0.000000       1.000000   \n",
       "number_of_inactive_months_otg        0.000000       0.000000       0.000000   \n",
       "MARITALSTATUS_MARRIED                0.000000       0.000000       0.000000   \n",
       "MARITALSTATUS_SINGLE                 0.000000       1.000000       1.000000   \n",
       "SEGMENTATION_CLASS_BL03_OR_BLO5      0.000000       1.000000       1.000000   \n",
       "OTG_TRANSACTING_FLAG                 0.000000       1.000000       1.000000   \n",
       "cust_age_19-20                       0.000000       0.000000       0.000000   \n",
       "cust_age_21-30                       0.000000       0.000000       0.000000   \n",
       "cust_age_31-40                       0.000000       0.000000       0.000000   \n",
       "cust_age_41-50                       0.000000       0.000000       0.000000   \n",
       "cust_age_51-60                       0.000000       0.000000       0.000000   \n",
       "cust_age_61-70                       0.000000       0.000000       0.000000   \n",
       "cust_age_71-80                       0.000000       0.000000       0.000000   \n",
       "age_with_bank_0-4                    0.000000       0.000000       1.000000   \n",
       "age_with_bank_5-8                    0.000000       0.000000       0.000000   \n",
       "age_with_bank_9-11                   0.000000       0.000000       0.000000   \n",
       "age_with_bank_12-15                  0.000000       0.000000       0.000000   \n",
       "first_otg_trans_0-4                  0.000000       0.000000       1.000000   \n",
       "first_otg_trans_5-8                  0.000000       0.000000       0.000000   \n",
       "first_otg_trans_9-11                 0.000000       0.000000       0.000000   \n",
       "first_otg_trans_12-15                0.000000       0.000000       0.000000   \n",
       "no_of_inactive_months_otg_0- <3      0.000000       1.000000       1.000000   \n",
       "no_of_inactive_months_otg_3- <6      0.000000       0.000000       0.000000   \n",
       "no_of_inactive_months_otg_6- <9      0.000000       0.000000       0.000000   \n",
       "no_of_inactive_months_otg_9 - 11     0.000000       0.000000       0.000000   \n",
       "\n",
       "                                           75%           max  \n",
       "CUST_AGE                          4.100000e+01  6.500000e+01  \n",
       "AGE_WITH_BANK                     5.000000e+00  1.500000e+01  \n",
       "DIS_AMT                           1.100000e+06  3.000000e+06  \n",
       "REP_PERD_MTHS                     6.000000e+01  6.000000e+01  \n",
       "FLOW_AMT                          3.261800e+04  2.492640e+05  \n",
       "NO_OF_INSTALLMENTS                1.000000e+00  3.000000e+00  \n",
       "min_cred_amt_6_months             1.000000e+03  9.738300e+04  \n",
       "max_cred_amt_6_months             1.200000e+06  2.023608e+07  \n",
       "avg_cred_amt_6_months             7.542977e+04  1.148812e+06  \n",
       "median_cred_amt_6_months          3.024300e+04  9.416000e+05  \n",
       "avg_monthly_cred_count_6_months   1.014286e+01  1.475714e+03  \n",
       "avg_eod_bal_6_months              6.461336e+04  1.205698e+06  \n",
       "median_eod_bal_6_months           1.732915e+04  1.063548e+06  \n",
       "min_debit_amt_6_months            1.000000e+01  9.732000e+03  \n",
       "max_debit_amt_6_months            2.500000e+05  2.023608e+07  \n",
       "avg_debit_amt_6_months            1.334737e+04  5.820921e+05  \n",
       "median_debit_amt_6_months         3.000000e+03  6.500000e+05  \n",
       "avg_monthly_debit_count_6_months  3.114286e+01  2.017143e+02  \n",
       "no_of_non_loan_accounts           2.000000e+00  7.000000e+00  \n",
       "no_of_loan_accounts               0.000000e+00  7.000000e+00  \n",
       "first_otg_trans                   6.000000e+00  1.200000e+01  \n",
       "number_of_months_active_otg       6.000000e+00  1.200000e+01  \n",
       "avg_otg_tran_amt                  8.376596e+03  1.400000e+05  \n",
       "median_otg_tran_amount            2.155000e+03  1.400000e+05  \n",
       "avg_monthly_otg_trans_count       1.666667e+01  1.111429e+02  \n",
       "avg_debit_to_credit_amt_ratio     3.245945e-01  2.046514e+01  \n",
       "median_debit_to_credit_amt_ratio  6.300000e-01  3.353205e+02  \n",
       "DEFAULT_STATUS_ENCODED            1.000000e+00  1.000000e+00  \n",
       "number_of_inactive_months_otg     0.000000e+00  1.100000e+01  \n",
       "MARITALSTATUS_MARRIED             0.000000e+00  1.000000e+00  \n",
       "MARITALSTATUS_SINGLE              1.000000e+00  1.000000e+00  \n",
       "SEGMENTATION_CLASS_BL03_OR_BLO5   1.000000e+00  1.000000e+00  \n",
       "OTG_TRANSACTING_FLAG              1.000000e+00  1.000000e+00  \n",
       "cust_age_19-20                    0.000000e+00  1.000000e+00  \n",
       "cust_age_21-30                    1.000000e+00  1.000000e+00  \n",
       "cust_age_31-40                    1.000000e+00  1.000000e+00  \n",
       "cust_age_41-50                    0.000000e+00  1.000000e+00  \n",
       "cust_age_51-60                    0.000000e+00  1.000000e+00  \n",
       "cust_age_61-70                    0.000000e+00  1.000000e+00  \n",
       "cust_age_71-80                    0.000000e+00  0.000000e+00  \n",
       "age_with_bank_0-4                 1.000000e+00  1.000000e+00  \n",
       "age_with_bank_5-8                 1.000000e+00  1.000000e+00  \n",
       "age_with_bank_9-11                0.000000e+00  1.000000e+00  \n",
       "age_with_bank_12-15               0.000000e+00  1.000000e+00  \n",
       "first_otg_trans_0-4               1.000000e+00  1.000000e+00  \n",
       "first_otg_trans_5-8               1.000000e+00  1.000000e+00  \n",
       "first_otg_trans_9-11              0.000000e+00  1.000000e+00  \n",
       "first_otg_trans_12-15             0.000000e+00  1.000000e+00  \n",
       "no_of_inactive_months_otg_0- <3   1.000000e+00  1.000000e+00  \n",
       "no_of_inactive_months_otg_3- <6   0.000000e+00  1.000000e+00  \n",
       "no_of_inactive_months_otg_6- <9   0.000000e+00  1.000000e+00  \n",
       "no_of_inactive_months_otg_9 - 11  0.000000e+00  1.000000e+00  "
      ]
     },
     "execution_count": 17,
     "metadata": {},
     "output_type": "execute_result"
    }
   ],
   "source": [
    "df_F.describe().T"
   ]
  },
  {
   "cell_type": "code",
   "execution_count": 18,
   "id": "8ad470b8",
   "metadata": {},
   "outputs": [
    {
     "data": {
      "text/plain": [
       "1    200\n",
       "0    177\n",
       "Name: DEFAULT_STATUS_ENCODED, dtype: int64"
      ]
     },
     "execution_count": 18,
     "metadata": {},
     "output_type": "execute_result"
    }
   ],
   "source": [
    "df_F['DEFAULT_STATUS_ENCODED'].value_counts()"
   ]
  },
  {
   "cell_type": "code",
   "execution_count": 19,
   "id": "6351e336",
   "metadata": {},
   "outputs": [],
   "source": [
    "df_1 = df_F.copy()"
   ]
  },
  {
   "cell_type": "code",
   "execution_count": 20,
   "id": "9fe9baf6",
   "metadata": {},
   "outputs": [
    {
     "data": {
      "text/plain": [
       "Index(['CIF_ID', 'CUST_AGE', 'AGE_WITH_BANK', 'DIS_AMT', 'REP_PERD_MTHS',\n",
       "       'FLOW_AMT', 'NO_OF_INSTALLMENTS', 'min_cred_amt_6_months',\n",
       "       'max_cred_amt_6_months', 'avg_cred_amt_6_months',\n",
       "       'median_cred_amt_6_months', 'avg_monthly_cred_count_6_months',\n",
       "       'avg_eod_bal_6_months', 'median_eod_bal_6_months',\n",
       "       'min_debit_amt_6_months', 'max_debit_amt_6_months',\n",
       "       'avg_debit_amt_6_months', 'median_debit_amt_6_months',\n",
       "       'avg_monthly_debit_count_6_months', 'no_of_non_loan_accounts',\n",
       "       'no_of_loan_accounts', 'first_otg_trans', 'number_of_months_active_otg',\n",
       "       'avg_otg_tran_amt', 'median_otg_tran_amount',\n",
       "       'avg_monthly_otg_trans_count', 'avg_debit_to_credit_amt_ratio',\n",
       "       'median_debit_to_credit_amt_ratio', 'DEFAULT_STATUS_ENCODED',\n",
       "       'number_of_inactive_months_otg', 'MARITALSTATUS_MARRIED',\n",
       "       'MARITALSTATUS_SINGLE', 'SEGMENTATION_CLASS_BL03_OR_BLO5',\n",
       "       'OTG_TRANSACTING_FLAG', 'cust_age_19-20', 'cust_age_21-30',\n",
       "       'cust_age_31-40', 'cust_age_41-50', 'cust_age_51-60', 'cust_age_61-70',\n",
       "       'cust_age_71-80', 'age_with_bank_0-4', 'age_with_bank_5-8',\n",
       "       'age_with_bank_9-11', 'age_with_bank_12-15', 'first_otg_trans_0-4',\n",
       "       'first_otg_trans_5-8', 'first_otg_trans_9-11', 'first_otg_trans_12-15',\n",
       "       'no_of_inactive_months_otg_0- <3', 'no_of_inactive_months_otg_3- <6',\n",
       "       'no_of_inactive_months_otg_6- <9', 'no_of_inactive_months_otg_9 - 11'],\n",
       "      dtype='object')"
      ]
     },
     "execution_count": 20,
     "metadata": {},
     "output_type": "execute_result"
    }
   ],
   "source": [
    "df_1.columns"
   ]
  },
  {
   "cell_type": "code",
   "execution_count": 21,
   "id": "b184cc9d",
   "metadata": {},
   "outputs": [],
   "source": [
    "columns_to_drop = ['DIS_AMT', 'REP_PERD_MTHS','FLOW_AMT', 'NO_OF_INSTALLMENTS']\n",
    "df_F.drop(columns_to_drop,axis=1,inplace=True)"
   ]
  },
  {
   "cell_type": "code",
   "execution_count": 22,
   "id": "dfa87e4b",
   "metadata": {},
   "outputs": [],
   "source": [
    "df_F = pd.concat([df_F[df_F['DEFAULT_STATUS_ENCODED'] == 0],\n",
    "                            df_F[df_F['DEFAULT_STATUS_ENCODED'] == 1].sample(150)])"
   ]
  },
  {
   "cell_type": "code",
   "execution_count": 23,
   "id": "a7af951a",
   "metadata": {},
   "outputs": [],
   "source": [
    "cols_selected_for_rfe = ['CUST_AGE', 'AGE_WITH_BANK','min_cred_amt_6_months',\n",
    "       'max_cred_amt_6_months', 'avg_cred_amt_6_months',\n",
    "       'median_cred_amt_6_months', 'avg_monthly_cred_count_6_months',\n",
    "       'avg_eod_bal_6_months', 'median_eod_bal_6_months',\n",
    "       'min_debit_amt_6_months', 'max_debit_amt_6_months',\n",
    "       'avg_debit_amt_6_months', 'median_debit_amt_6_months',\n",
    "       'avg_monthly_debit_count_6_months', 'no_of_non_loan_accounts',\n",
    "       'no_of_loan_accounts', 'first_otg_trans', 'number_of_months_active_otg',\n",
    "       'avg_otg_tran_amt', 'median_otg_tran_amount',\n",
    "       'avg_monthly_otg_trans_count', 'avg_debit_to_credit_amt_ratio',\n",
    "       'median_debit_to_credit_amt_ratio',\n",
    "       'number_of_inactive_months_otg', 'MARITALSTATUS_MARRIED',\n",
    "       'MARITALSTATUS_SINGLE', 'SEGMENTATION_CLASS_BL03_OR_BLO5',\n",
    "       'OTG_TRANSACTING_FLAG', 'cust_age_19-20', 'cust_age_21-30',\n",
    "       'cust_age_31-40', 'cust_age_41-50', 'cust_age_51-60', 'cust_age_61-70',\n",
    "       'cust_age_71-80', 'age_with_bank_0-4', 'age_with_bank_5-8',\n",
    "       'age_with_bank_9-11', 'age_with_bank_12-15', 'first_otg_trans_0-4',\n",
    "       'first_otg_trans_5-8', 'first_otg_trans_9-11', 'first_otg_trans_12-15',\n",
    "       'no_of_inactive_months_otg_0- <3', 'no_of_inactive_months_otg_3- <6',\n",
    "       'no_of_inactive_months_otg_6- <9', 'no_of_inactive_months_otg_9 - 11']"
   ]
  },
  {
   "cell_type": "code",
   "execution_count": 24,
   "id": "abe35ea9",
   "metadata": {},
   "outputs": [
    {
     "data": {
      "text/html": [
       "<style>#sk-container-id-1 {color: black;background-color: white;}#sk-container-id-1 pre{padding: 0;}#sk-container-id-1 div.sk-toggleable {background-color: white;}#sk-container-id-1 label.sk-toggleable__label {cursor: pointer;display: block;width: 100%;margin-bottom: 0;padding: 0.3em;box-sizing: border-box;text-align: center;}#sk-container-id-1 label.sk-toggleable__label-arrow:before {content: \"▸\";float: left;margin-right: 0.25em;color: #696969;}#sk-container-id-1 label.sk-toggleable__label-arrow:hover:before {color: black;}#sk-container-id-1 div.sk-estimator:hover label.sk-toggleable__label-arrow:before {color: black;}#sk-container-id-1 div.sk-toggleable__content {max-height: 0;max-width: 0;overflow: hidden;text-align: left;background-color: #f0f8ff;}#sk-container-id-1 div.sk-toggleable__content pre {margin: 0.2em;color: black;border-radius: 0.25em;background-color: #f0f8ff;}#sk-container-id-1 input.sk-toggleable__control:checked~div.sk-toggleable__content {max-height: 200px;max-width: 100%;overflow: auto;}#sk-container-id-1 input.sk-toggleable__control:checked~label.sk-toggleable__label-arrow:before {content: \"▾\";}#sk-container-id-1 div.sk-estimator input.sk-toggleable__control:checked~label.sk-toggleable__label {background-color: #d4ebff;}#sk-container-id-1 div.sk-label input.sk-toggleable__control:checked~label.sk-toggleable__label {background-color: #d4ebff;}#sk-container-id-1 input.sk-hidden--visually {border: 0;clip: rect(1px 1px 1px 1px);clip: rect(1px, 1px, 1px, 1px);height: 1px;margin: -1px;overflow: hidden;padding: 0;position: absolute;width: 1px;}#sk-container-id-1 div.sk-estimator {font-family: monospace;background-color: #f0f8ff;border: 1px dotted black;border-radius: 0.25em;box-sizing: border-box;margin-bottom: 0.5em;}#sk-container-id-1 div.sk-estimator:hover {background-color: #d4ebff;}#sk-container-id-1 div.sk-parallel-item::after {content: \"\";width: 100%;border-bottom: 1px solid gray;flex-grow: 1;}#sk-container-id-1 div.sk-label:hover label.sk-toggleable__label {background-color: #d4ebff;}#sk-container-id-1 div.sk-serial::before {content: \"\";position: absolute;border-left: 1px solid gray;box-sizing: border-box;top: 0;bottom: 0;left: 50%;z-index: 0;}#sk-container-id-1 div.sk-serial {display: flex;flex-direction: column;align-items: center;background-color: white;padding-right: 0.2em;padding-left: 0.2em;position: relative;}#sk-container-id-1 div.sk-item {position: relative;z-index: 1;}#sk-container-id-1 div.sk-parallel {display: flex;align-items: stretch;justify-content: center;background-color: white;position: relative;}#sk-container-id-1 div.sk-item::before, #sk-container-id-1 div.sk-parallel-item::before {content: \"\";position: absolute;border-left: 1px solid gray;box-sizing: border-box;top: 0;bottom: 0;left: 50%;z-index: -1;}#sk-container-id-1 div.sk-parallel-item {display: flex;flex-direction: column;z-index: 1;position: relative;background-color: white;}#sk-container-id-1 div.sk-parallel-item:first-child::after {align-self: flex-end;width: 50%;}#sk-container-id-1 div.sk-parallel-item:last-child::after {align-self: flex-start;width: 50%;}#sk-container-id-1 div.sk-parallel-item:only-child::after {width: 0;}#sk-container-id-1 div.sk-dashed-wrapped {border: 1px dashed gray;margin: 0 0.4em 0.5em 0.4em;box-sizing: border-box;padding-bottom: 0.4em;background-color: white;}#sk-container-id-1 div.sk-label label {font-family: monospace;font-weight: bold;display: inline-block;line-height: 1.2em;}#sk-container-id-1 div.sk-label-container {text-align: center;}#sk-container-id-1 div.sk-container {/* jupyter's `normalize.less` sets `[hidden] { display: none; }` but bootstrap.min.css set `[hidden] { display: none !important; }` so we also need the `!important` here to be able to override the default hidden behavior on the sphinx rendered scikit-learn.org. See: https://github.com/scikit-learn/scikit-learn/issues/21755 */display: inline-block !important;position: relative;}#sk-container-id-1 div.sk-text-repr-fallback {display: none;}</style><div id=\"sk-container-id-1\" class=\"sk-top-container\"><div class=\"sk-text-repr-fallback\"><pre>RFECV(cv=StratifiedKFold(n_splits=10, random_state=None, shuffle=False),\n",
       "      estimator=RandomForestClassifier(random_state=42), scoring=&#x27;accuracy&#x27;)</pre><b>In a Jupyter environment, please rerun this cell to show the HTML representation or trust the notebook. <br />On GitHub, the HTML representation is unable to render, please try loading this page with nbviewer.org.</b></div><div class=\"sk-container\" hidden><div class=\"sk-item sk-dashed-wrapped\"><div class=\"sk-label-container\"><div class=\"sk-label sk-toggleable\"><input class=\"sk-toggleable__control sk-hidden--visually\" id=\"sk-estimator-id-1\" type=\"checkbox\" ><label for=\"sk-estimator-id-1\" class=\"sk-toggleable__label sk-toggleable__label-arrow\">RFECV</label><div class=\"sk-toggleable__content\"><pre>RFECV(cv=StratifiedKFold(n_splits=10, random_state=None, shuffle=False),\n",
       "      estimator=RandomForestClassifier(random_state=42), scoring=&#x27;accuracy&#x27;)</pre></div></div></div><div class=\"sk-parallel\"><div class=\"sk-parallel-item\"><div class=\"sk-item\"><div class=\"sk-label-container\"><div class=\"sk-label sk-toggleable\"><input class=\"sk-toggleable__control sk-hidden--visually\" id=\"sk-estimator-id-2\" type=\"checkbox\" ><label for=\"sk-estimator-id-2\" class=\"sk-toggleable__label sk-toggleable__label-arrow\">estimator: RandomForestClassifier</label><div class=\"sk-toggleable__content\"><pre>RandomForestClassifier(random_state=42)</pre></div></div></div><div class=\"sk-serial\"><div class=\"sk-item\"><div class=\"sk-estimator sk-toggleable\"><input class=\"sk-toggleable__control sk-hidden--visually\" id=\"sk-estimator-id-3\" type=\"checkbox\" ><label for=\"sk-estimator-id-3\" class=\"sk-toggleable__label sk-toggleable__label-arrow\">RandomForestClassifier</label><div class=\"sk-toggleable__content\"><pre>RandomForestClassifier(random_state=42)</pre></div></div></div></div></div></div></div></div></div></div>"
      ],
      "text/plain": [
       "RFECV(cv=StratifiedKFold(n_splits=10, random_state=None, shuffle=False),\n",
       "      estimator=RandomForestClassifier(random_state=42), scoring='accuracy')"
      ]
     },
     "execution_count": 24,
     "metadata": {},
     "output_type": "execute_result"
    }
   ],
   "source": [
    "rfc = RandomForestClassifier(random_state=42)\n",
    "rfecv = RFECV(estimator=rfc, step=1, cv=StratifiedKFold(10), scoring='accuracy')\n",
    "rfecv.fit(df_F[cols_selected_for_rfe], df_F['DEFAULT_STATUS_ENCODED'])"
   ]
  },
  {
   "cell_type": "code",
   "execution_count": 25,
   "id": "c26a70a1",
   "metadata": {},
   "outputs": [
    {
     "name": "stdout",
     "output_type": "stream",
     "text": [
      "Optimal number of features: 38\n"
     ]
    }
   ],
   "source": [
    "print('Optimal number of features: {}'.format(rfecv.n_features_))"
   ]
  },
  {
   "cell_type": "code",
   "execution_count": 26,
   "id": "457a776f",
   "metadata": {},
   "outputs": [
    {
     "data": {
      "text/plain": [
       "47"
      ]
     },
     "execution_count": 26,
     "metadata": {},
     "output_type": "execute_result"
    }
   ],
   "source": [
    "len(rfecv.cv_results_['mean_test_score'])"
   ]
  },
  {
   "cell_type": "code",
   "execution_count": 27,
   "id": "6a7b6048",
   "metadata": {},
   "outputs": [
    {
     "data": {
      "image/png": "[encoded data removed]",
      "text/plain": [
       "<Figure size 1600x900 with 1 Axes>"
      ]
     },
     "metadata": {},
     "output_type": "display_data"
    }
   ],
   "source": [
    "import matplotlib.pyplot as plt\n",
    "plt.figure(figsize=(16, 9))\n",
    "plt.title('Recursive Feature Elimination with Cross-Validation', fontsize=18, fontweight='bold', pad=20)\n",
    "plt.xlabel('Number of features selected', fontsize=14, labelpad=20)\n",
    "plt.ylabel('% Correct Classification', fontsize=14, labelpad=20)\n",
    "plt.plot(range(1, len(rfecv.cv_results_['mean_test_score']) + 1), rfecv.cv_results_['mean_test_score'], color='#303F9F', linewidth=3)\n",
    "\n",
    "plt.show()"
   ]
  },
  {
   "cell_type": "code",
   "execution_count": 28,
   "id": "d77b7da4",
   "metadata": {},
   "outputs": [],
   "source": [
    "X = df_F[cols_selected_for_rfe]"
   ]
  },
  {
   "cell_type": "code",
   "execution_count": 29,
   "id": "8c8ae46a",
   "metadata": {},
   "outputs": [
    {
     "data": {
      "text/html": [
       "<div>\n",
       "<style scoped>\n",
       "    .dataframe tbody tr th:only-of-type {\n",
       "        vertical-align: middle;\n",
       "    }\n",
       "\n",
       "    .dataframe tbody tr th {\n",
       "        vertical-align: top;\n",
       "    }\n",
       "\n",
       "    .dataframe thead th {\n",
       "        text-align: right;\n",
       "    }\n",
       "</style>\n",
       "<table border=\"1\" class=\"dataframe\">\n",
       "  <thead>\n",
       "    <tr style=\"text-align: right;\">\n",
       "      <th></th>\n",
       "      <th>CUST_AGE</th>\n",
       "      <th>AGE_WITH_BANK</th>\n",
       "      <th>min_cred_amt_6_months</th>\n",
       "      <th>max_cred_amt_6_months</th>\n",
       "      <th>avg_cred_amt_6_months</th>\n",
       "      <th>median_cred_amt_6_months</th>\n",
       "      <th>avg_monthly_cred_count_6_months</th>\n",
       "      <th>avg_eod_bal_6_months</th>\n",
       "      <th>median_eod_bal_6_months</th>\n",
       "      <th>min_debit_amt_6_months</th>\n",
       "      <th>...</th>\n",
       "      <th>age_with_bank_9-11</th>\n",
       "      <th>age_with_bank_12-15</th>\n",
       "      <th>first_otg_trans_0-4</th>\n",
       "      <th>first_otg_trans_5-8</th>\n",
       "      <th>first_otg_trans_9-11</th>\n",
       "      <th>first_otg_trans_12-15</th>\n",
       "      <th>no_of_inactive_months_otg_0- &lt;3</th>\n",
       "      <th>no_of_inactive_months_otg_3- &lt;6</th>\n",
       "      <th>no_of_inactive_months_otg_6- &lt;9</th>\n",
       "      <th>no_of_inactive_months_otg_9 - 11</th>\n",
       "    </tr>\n",
       "  </thead>\n",
       "  <tbody>\n",
       "    <tr>\n",
       "      <th>0</th>\n",
       "      <td>32</td>\n",
       "      <td>15</td>\n",
       "      <td>9.00</td>\n",
       "      <td>669500.0</td>\n",
       "      <td>34701.441860</td>\n",
       "      <td>3000.00</td>\n",
       "      <td>6.142857</td>\n",
       "      <td>21332.805616</td>\n",
       "      <td>758.89</td>\n",
       "      <td>1.00</td>\n",
       "      <td>...</td>\n",
       "      <td>0</td>\n",
       "      <td>1</td>\n",
       "      <td>1</td>\n",
       "      <td>0</td>\n",
       "      <td>0</td>\n",
       "      <td>0</td>\n",
       "      <td>1</td>\n",
       "      <td>0</td>\n",
       "      <td>0</td>\n",
       "      <td>0</td>\n",
       "    </tr>\n",
       "    <tr>\n",
       "      <th>1</th>\n",
       "      <td>38</td>\n",
       "      <td>12</td>\n",
       "      <td>0.17</td>\n",
       "      <td>2000000.0</td>\n",
       "      <td>97066.649770</td>\n",
       "      <td>40000.00</td>\n",
       "      <td>12.428571</td>\n",
       "      <td>56828.881515</td>\n",
       "      <td>14000.11</td>\n",
       "      <td>0.03</td>\n",
       "      <td>...</td>\n",
       "      <td>0</td>\n",
       "      <td>1</td>\n",
       "      <td>1</td>\n",
       "      <td>0</td>\n",
       "      <td>0</td>\n",
       "      <td>0</td>\n",
       "      <td>1</td>\n",
       "      <td>0</td>\n",
       "      <td>0</td>\n",
       "      <td>0</td>\n",
       "    </tr>\n",
       "    <tr>\n",
       "      <th>2</th>\n",
       "      <td>32</td>\n",
       "      <td>10</td>\n",
       "      <td>2.00</td>\n",
       "      <td>380700.0</td>\n",
       "      <td>23113.000000</td>\n",
       "      <td>8000.00</td>\n",
       "      <td>3.857143</td>\n",
       "      <td>25339.973208</td>\n",
       "      <td>19406.34</td>\n",
       "      <td>6.00</td>\n",
       "      <td>...</td>\n",
       "      <td>1</td>\n",
       "      <td>0</td>\n",
       "      <td>1</td>\n",
       "      <td>0</td>\n",
       "      <td>0</td>\n",
       "      <td>0</td>\n",
       "      <td>1</td>\n",
       "      <td>0</td>\n",
       "      <td>0</td>\n",
       "      <td>0</td>\n",
       "    </tr>\n",
       "    <tr>\n",
       "      <th>3</th>\n",
       "      <td>33</td>\n",
       "      <td>8</td>\n",
       "      <td>2.00</td>\n",
       "      <td>2000000.0</td>\n",
       "      <td>91375.673333</td>\n",
       "      <td>35.94</td>\n",
       "      <td>8.000000</td>\n",
       "      <td>125506.312397</td>\n",
       "      <td>0.00</td>\n",
       "      <td>1.00</td>\n",
       "      <td>...</td>\n",
       "      <td>1</td>\n",
       "      <td>0</td>\n",
       "      <td>1</td>\n",
       "      <td>0</td>\n",
       "      <td>0</td>\n",
       "      <td>0</td>\n",
       "      <td>1</td>\n",
       "      <td>0</td>\n",
       "      <td>0</td>\n",
       "      <td>0</td>\n",
       "    </tr>\n",
       "    <tr>\n",
       "      <th>4</th>\n",
       "      <td>33</td>\n",
       "      <td>6</td>\n",
       "      <td>1.00</td>\n",
       "      <td>150000.0</td>\n",
       "      <td>10758.582674</td>\n",
       "      <td>5250.00</td>\n",
       "      <td>39.000000</td>\n",
       "      <td>8065.292585</td>\n",
       "      <td>2014.07</td>\n",
       "      <td>1.00</td>\n",
       "      <td>...</td>\n",
       "      <td>0</td>\n",
       "      <td>0</td>\n",
       "      <td>0</td>\n",
       "      <td>1</td>\n",
       "      <td>0</td>\n",
       "      <td>0</td>\n",
       "      <td>1</td>\n",
       "      <td>0</td>\n",
       "      <td>0</td>\n",
       "      <td>0</td>\n",
       "    </tr>\n",
       "  </tbody>\n",
       "</table>\n",
       "<p>5 rows × 47 columns</p>\n",
       "</div>"
      ],
      "text/plain": [
       "   CUST_AGE  AGE_WITH_BANK  min_cred_amt_6_months  max_cred_amt_6_months  \\\n",
       "0        32             15                   9.00               669500.0   \n",
       "1        38             12                   0.17              2000000.0   \n",
       "2        32             10                   2.00               380700.0   \n",
       "3        33              8                   2.00              2000000.0   \n",
       "4        33              6                   1.00               150000.0   \n",
       "\n",
       "   avg_cred_amt_6_months  median_cred_amt_6_months  \\\n",
       "0           34701.441860                   3000.00   \n",
       "1           97066.649770                  40000.00   \n",
       "2           23113.000000                   8000.00   \n",
       "3           91375.673333                     35.94   \n",
       "4           10758.582674                   5250.00   \n",
       "\n",
       "   avg_monthly_cred_count_6_months  avg_eod_bal_6_months  \\\n",
       "0                         6.142857          21332.805616   \n",
       "1                        12.428571          56828.881515   \n",
       "2                         3.857143          25339.973208   \n",
       "3                         8.000000         125506.312397   \n",
       "4                        39.000000           8065.292585   \n",
       "\n",
       "   median_eod_bal_6_months  min_debit_amt_6_months  ...  age_with_bank_9-11  \\\n",
       "0                   758.89                    1.00  ...                   0   \n",
       "1                 14000.11                    0.03  ...                   0   \n",
       "2                 19406.34                    6.00  ...                   1   \n",
       "3                     0.00                    1.00  ...                   1   \n",
       "4                  2014.07                    1.00  ...                   0   \n",
       "\n",
       "   age_with_bank_12-15  first_otg_trans_0-4  first_otg_trans_5-8  \\\n",
       "0                    1                    1                    0   \n",
       "1                    1                    1                    0   \n",
       "2                    0                    1                    0   \n",
       "3                    0                    1                    0   \n",
       "4                    0                    0                    1   \n",
       "\n",
       "   first_otg_trans_9-11  first_otg_trans_12-15  \\\n",
       "0                     0                      0   \n",
       "1                     0                      0   \n",
       "2                     0                      0   \n",
       "3                     0                      0   \n",
       "4                     0                      0   \n",
       "\n",
       "   no_of_inactive_months_otg_0- <3  no_of_inactive_months_otg_3- <6  \\\n",
       "0                                1                                0   \n",
       "1                                1                                0   \n",
       "2                                1                                0   \n",
       "3                                1                                0   \n",
       "4                                1                                0   \n",
       "\n",
       "   no_of_inactive_months_otg_6- <9  no_of_inactive_months_otg_9 - 11  \n",
       "0                                0                                 0  \n",
       "1                                0                                 0  \n",
       "2                                0                                 0  \n",
       "3                                0                                 0  \n",
       "4                                0                                 0  \n",
       "\n",
       "[5 rows x 47 columns]"
      ]
     },
     "execution_count": 29,
     "metadata": {},
     "output_type": "execute_result"
    }
   ],
   "source": [
    "X.head()"
   ]
  },
  {
   "cell_type": "code",
   "execution_count": 30,
   "id": "a80e7314",
   "metadata": {
    "scrolled": true
   },
   "outputs": [],
   "source": [
    "# Get the indices where rfecv.support_ is False\n",
    "indices_to_drop = np.where(rfecv.support_ == False)[0]\n",
    "\n",
    "# Drop the columns using loc indexer\n",
    "X.drop(X.columns[indices_to_drop], axis=1, inplace=True)"
   ]
  },
  {
   "cell_type": "code",
   "execution_count": 31,
   "id": "d6bc6008",
   "metadata": {
    "scrolled": true
   },
   "outputs": [
    {
     "data": {
      "text/plain": [
       "array([0.05584666, 0.04398166, 0.03808619, 0.04226666, 0.04048379,\n",
       "       0.03906105, 0.03883785, 0.05931744, 0.07241774, 0.04251421,\n",
       "       0.0416429 , 0.0487651 , 0.03608842, 0.04375863, 0.01159741,\n",
       "       0.00674074, 0.02469561, 0.02096077, 0.02507082, 0.02103592,\n",
       "       0.05007699, 0.04368142, 0.05861737, 0.00959315, 0.00825684,\n",
       "       0.00924272, 0.00439007, 0.00801422, 0.00800287, 0.00792405,\n",
       "       0.00193524, 0.00268621, 0.00740745, 0.00403832, 0.00738424,\n",
       "       0.00826467, 0.00376048, 0.00355412])"
      ]
     },
     "execution_count": 31,
     "metadata": {},
     "output_type": "execute_result"
    }
   ],
   "source": [
    "rfecv.estimator_.feature_importances_"
   ]
  },
  {
   "cell_type": "code",
   "execution_count": 32,
   "id": "9e0e9b4b",
   "metadata": {},
   "outputs": [
    {
     "data": {
      "image/png": "[encoded data removed]",
      "text/plain": [
       "<Figure size 1600x1400 with 1 Axes>"
      ]
     },
     "metadata": {},
     "output_type": "display_data"
    }
   ],
   "source": [
    "dset = pd.DataFrame()\n",
    "dset['attr'] = X.columns\n",
    "dset['importance'] = rfecv.estimator_.feature_importances_\n",
    "\n",
    "dset = dset.sort_values(by='importance', ascending=False)\n",
    "\n",
    "\n",
    "plt.figure(figsize=(16, 14))\n",
    "plt.barh(y=dset['attr'], width=dset['importance'], color='#1976D2')\n",
    "plt.title('RFECV - Feature Importances', fontsize=20, fontweight='bold', pad=20)\n",
    "plt.xlabel('Importance', fontsize=14, labelpad=20)\n",
    "plt.show()"
   ]
  },
  {
   "cell_type": "code",
   "execution_count": 33,
   "id": "7006f2ea",
   "metadata": {
    "scrolled": true
   },
   "outputs": [
    {
     "name": "stdout",
     "output_type": "stream",
     "text": [
      "['median_eod_bal_6_months', 'avg_eod_bal_6_months', 'median_debit_to_credit_amt_ratio', 'CUST_AGE', 'avg_monthly_otg_trans_count', 'avg_debit_amt_6_months', 'AGE_WITH_BANK', 'avg_monthly_debit_count_6_months', 'avg_debit_to_credit_amt_ratio', 'min_debit_amt_6_months', 'max_cred_amt_6_months', 'max_debit_amt_6_months', 'avg_cred_amt_6_months', 'median_cred_amt_6_months', 'avg_monthly_cred_count_6_months', 'min_cred_amt_6_months', 'median_debit_amt_6_months', 'avg_otg_tran_amt', 'first_otg_trans', 'median_otg_tran_amount', 'number_of_months_active_otg', 'no_of_non_loan_accounts', 'number_of_inactive_months_otg', 'MARITALSTATUS_SINGLE', 'first_otg_trans_5-8', 'MARITALSTATUS_MARRIED', 'cust_age_19-20', 'cust_age_21-30', 'cust_age_31-40', 'age_with_bank_0-4', 'age_with_bank_9-11', 'no_of_loan_accounts', 'OTG_TRANSACTING_FLAG', 'age_with_bank_5-8', 'first_otg_trans_9-11', 'no_of_inactive_months_otg_3- <6', 'cust_age_51-60', 'cust_age_41-50']\n"
     ]
    }
   ],
   "source": [
    "print(dset['attr'].to_list())"
   ]
  },
  {
   "cell_type": "code",
   "execution_count": 34,
   "id": "62d34a57",
   "metadata": {},
   "outputs": [],
   "source": [
    "important_cols = dset['attr'].to_list()"
   ]
  },
  {
   "cell_type": "code",
   "execution_count": 35,
   "id": "5eca98f5",
   "metadata": {},
   "outputs": [],
   "source": [
    "# Split into train and test sets\n",
    "X_train, X_test, y_train, y_test = train_test_split(df_F,\n",
    "                                                    df_F['DEFAULT_STATUS_ENCODED'],\n",
    "                                                    test_size=0.23,\n",
    "                                                    random_state=42,\n",
    "                                                    stratify=df_F['DEFAULT_STATUS_ENCODED'])"
   ]
  },
  {
   "cell_type": "code",
   "execution_count": 36,
   "id": "77b2102c",
   "metadata": {},
   "outputs": [],
   "source": [
    "# Handle class imbalance by applying a suitable method, such as oversampling or undersampling. \n",
    "# Here, we'll use the RandomOverSampler from the imblearn library\n",
    "\n",
    "from imblearn.over_sampling import RandomOverSampler, SMOTE\n",
    "oversampler = RandomOverSampler(random_state=42)\n",
    "X_train_resampled, y_train_resampled = oversampler.fit_resample(X_train, y_train)\n",
    "sm = SMOTE(sampling_strategy=0.9,random_state=42)\n",
    "X_train, y_train = sm.fit_resample(X_train,y_train)"
   ]
  },
  {
   "cell_type": "code",
   "execution_count": 37,
   "id": "21e59c83",
   "metadata": {},
   "outputs": [],
   "source": [
    "X_train = X_train[important_cols]\n",
    "X_test = X_test[important_cols]"
   ]
  },
  {
   "cell_type": "code",
   "execution_count": 38,
   "id": "74d30d03",
   "metadata": {
    "scrolled": true
   },
   "outputs": [
    {
     "data": {
      "text/plain": [
       "(258, 38)"
      ]
     },
     "execution_count": 38,
     "metadata": {},
     "output_type": "execute_result"
    }
   ],
   "source": [
    "X_train.shape"
   ]
  },
  {
   "cell_type": "code",
   "execution_count": 39,
   "id": "548c6f7a",
   "metadata": {},
   "outputs": [],
   "source": [
    "# Scale the numerical columns\n",
    "scaler = StandardScaler()\n",
    "numerical_columns = important_cols\n",
    "\n",
    "X_train[numerical_columns] = scaler.fit_transform(X_train[numerical_columns])\n",
    "X_test[numerical_columns] = scaler.transform(X_test[numerical_columns])"
   ]
  },
  {
   "cell_type": "code",
   "execution_count": 40,
   "id": "4447909d",
   "metadata": {},
   "outputs": [
    {
     "data": {
      "text/plain": [
       "0    136\n",
       "1    122\n",
       "Name: DEFAULT_STATUS_ENCODED, dtype: int64"
      ]
     },
     "execution_count": 40,
     "metadata": {},
     "output_type": "execute_result"
    }
   ],
   "source": [
    "y_train.value_counts()"
   ]
  },
  {
   "cell_type": "markdown",
   "id": "a82e680c",
   "metadata": {},
   "source": [
    "## Random Forest Classifier"
   ]
  },
  {
   "cell_type": "code",
   "execution_count": 41,
   "id": "81813047",
   "metadata": {},
   "outputs": [],
   "source": [
    "# Define the parameter grid for hyperparameter tuning\n",
    "param_grid = {\n",
    "    'n_estimators': np.arange(50, 150, 10),\n",
    "    'max_depth': np.arange(7, 11, 1),\n",
    "    'min_samples_split': np.arange(2, 6, 1),  # Adjusted range\n",
    "    'min_samples_leaf': np.arange(1, 4, 1),  # Adjusted range\n",
    "    'class_weight': [{0: 0.6, 1: 0.4}, {0: 0.7, 1: 0.3}, {0: 0.8, 1: 0.2}]\n",
    "}"
   ]
  },
  {
   "cell_type": "code",
   "execution_count": 42,
   "id": "70bd10de",
   "metadata": {},
   "outputs": [
    {
     "data": {
      "text/html": [
       "<style>#sk-container-id-2 {color: black;background-color: white;}#sk-container-id-2 pre{padding: 0;}#sk-container-id-2 div.sk-toggleable {background-color: white;}#sk-container-id-2 label.sk-toggleable__label {cursor: pointer;display: block;width: 100%;margin-bottom: 0;padding: 0.3em;box-sizing: border-box;text-align: center;}#sk-container-id-2 label.sk-toggleable__label-arrow:before {content: \"▸\";float: left;margin-right: 0.25em;color: #696969;}#sk-container-id-2 label.sk-toggleable__label-arrow:hover:before {color: black;}#sk-container-id-2 div.sk-estimator:hover label.sk-toggleable__label-arrow:before {color: black;}#sk-container-id-2 div.sk-toggleable__content {max-height: 0;max-width: 0;overflow: hidden;text-align: left;background-color: #f0f8ff;}#sk-container-id-2 div.sk-toggleable__content pre {margin: 0.2em;color: black;border-radius: 0.25em;background-color: #f0f8ff;}#sk-container-id-2 input.sk-toggleable__control:checked~div.sk-toggleable__content {max-height: 200px;max-width: 100%;overflow: auto;}#sk-container-id-2 input.sk-toggleable__control:checked~label.sk-toggleable__label-arrow:before {content: \"▾\";}#sk-container-id-2 div.sk-estimator input.sk-toggleable__control:checked~label.sk-toggleable__label {background-color: #d4ebff;}#sk-container-id-2 div.sk-label input.sk-toggleable__control:checked~label.sk-toggleable__label {background-color: #d4ebff;}#sk-container-id-2 input.sk-hidden--visually {border: 0;clip: rect(1px 1px 1px 1px);clip: rect(1px, 1px, 1px, 1px);height: 1px;margin: -1px;overflow: hidden;padding: 0;position: absolute;width: 1px;}#sk-container-id-2 div.sk-estimator {font-family: monospace;background-color: #f0f8ff;border: 1px dotted black;border-radius: 0.25em;box-sizing: border-box;margin-bottom: 0.5em;}#sk-container-id-2 div.sk-estimator:hover {background-color: #d4ebff;}#sk-container-id-2 div.sk-parallel-item::after {content: \"\";width: 100%;border-bottom: 1px solid gray;flex-grow: 1;}#sk-container-id-2 div.sk-label:hover label.sk-toggleable__label {background-color: #d4ebff;}#sk-container-id-2 div.sk-serial::before {content: \"\";position: absolute;border-left: 1px solid gray;box-sizing: border-box;top: 0;bottom: 0;left: 50%;z-index: 0;}#sk-container-id-2 div.sk-serial {display: flex;flex-direction: column;align-items: center;background-color: white;padding-right: 0.2em;padding-left: 0.2em;position: relative;}#sk-container-id-2 div.sk-item {position: relative;z-index: 1;}#sk-container-id-2 div.sk-parallel {display: flex;align-items: stretch;justify-content: center;background-color: white;position: relative;}#sk-container-id-2 div.sk-item::before, #sk-container-id-2 div.sk-parallel-item::before {content: \"\";position: absolute;border-left: 1px solid gray;box-sizing: border-box;top: 0;bottom: 0;left: 50%;z-index: -1;}#sk-container-id-2 div.sk-parallel-item {display: flex;flex-direction: column;z-index: 1;position: relative;background-color: white;}#sk-container-id-2 div.sk-parallel-item:first-child::after {align-self: flex-end;width: 50%;}#sk-container-id-2 div.sk-parallel-item:last-child::after {align-self: flex-start;width: 50%;}#sk-container-id-2 div.sk-parallel-item:only-child::after {width: 0;}#sk-container-id-2 div.sk-dashed-wrapped {border: 1px dashed gray;margin: 0 0.4em 0.5em 0.4em;box-sizing: border-box;padding-bottom: 0.4em;background-color: white;}#sk-container-id-2 div.sk-label label {font-family: monospace;font-weight: bold;display: inline-block;line-height: 1.2em;}#sk-container-id-2 div.sk-label-container {text-align: center;}#sk-container-id-2 div.sk-container {/* jupyter's `normalize.less` sets `[hidden] { display: none; }` but bootstrap.min.css set `[hidden] { display: none !important; }` so we also need the `!important` here to be able to override the default hidden behavior on the sphinx rendered scikit-learn.org. See: https://github.com/scikit-learn/scikit-learn/issues/21755 */display: inline-block !important;position: relative;}#sk-container-id-2 div.sk-text-repr-fallback {display: none;}</style><div id=\"sk-container-id-2\" class=\"sk-top-container\"><div class=\"sk-text-repr-fallback\"><pre>GridSearchCV(cv=5, estimator=RandomForestClassifier(random_state=42),\n",
       "             param_grid={&#x27;class_weight&#x27;: [{0: 0.6, 1: 0.4}, {0: 0.7, 1: 0.3},\n",
       "                                          {0: 0.8, 1: 0.2}],\n",
       "                         &#x27;max_depth&#x27;: array([ 7,  8,  9, 10]),\n",
       "                         &#x27;min_samples_leaf&#x27;: array([1, 2, 3]),\n",
       "                         &#x27;min_samples_split&#x27;: array([2, 3, 4, 5]),\n",
       "                         &#x27;n_estimators&#x27;: array([ 50,  60,  70,  80,  90, 100, 110, 120, 130, 140])})</pre><b>In a Jupyter environment, please rerun this cell to show the HTML representation or trust the notebook. <br />On GitHub, the HTML representation is unable to render, please try loading this page with nbviewer.org.</b></div><div class=\"sk-container\" hidden><div class=\"sk-item sk-dashed-wrapped\"><div class=\"sk-label-container\"><div class=\"sk-label sk-toggleable\"><input class=\"sk-toggleable__control sk-hidden--visually\" id=\"sk-estimator-id-4\" type=\"checkbox\" ><label for=\"sk-estimator-id-4\" class=\"sk-toggleable__label sk-toggleable__label-arrow\">GridSearchCV</label><div class=\"sk-toggleable__content\"><pre>GridSearchCV(cv=5, estimator=RandomForestClassifier(random_state=42),\n",
       "             param_grid={&#x27;class_weight&#x27;: [{0: 0.6, 1: 0.4}, {0: 0.7, 1: 0.3},\n",
       "                                          {0: 0.8, 1: 0.2}],\n",
       "                         &#x27;max_depth&#x27;: array([ 7,  8,  9, 10]),\n",
       "                         &#x27;min_samples_leaf&#x27;: array([1, 2, 3]),\n",
       "                         &#x27;min_samples_split&#x27;: array([2, 3, 4, 5]),\n",
       "                         &#x27;n_estimators&#x27;: array([ 50,  60,  70,  80,  90, 100, 110, 120, 130, 140])})</pre></div></div></div><div class=\"sk-parallel\"><div class=\"sk-parallel-item\"><div class=\"sk-item\"><div class=\"sk-label-container\"><div class=\"sk-label sk-toggleable\"><input class=\"sk-toggleable__control sk-hidden--visually\" id=\"sk-estimator-id-5\" type=\"checkbox\" ><label for=\"sk-estimator-id-5\" class=\"sk-toggleable__label sk-toggleable__label-arrow\">estimator: RandomForestClassifier</label><div class=\"sk-toggleable__content\"><pre>RandomForestClassifier(random_state=42)</pre></div></div></div><div class=\"sk-serial\"><div class=\"sk-item\"><div class=\"sk-estimator sk-toggleable\"><input class=\"sk-toggleable__control sk-hidden--visually\" id=\"sk-estimator-id-6\" type=\"checkbox\" ><label for=\"sk-estimator-id-6\" class=\"sk-toggleable__label sk-toggleable__label-arrow\">RandomForestClassifier</label><div class=\"sk-toggleable__content\"><pre>RandomForestClassifier(random_state=42)</pre></div></div></div></div></div></div></div></div></div></div>"
      ],
      "text/plain": [
       "GridSearchCV(cv=5, estimator=RandomForestClassifier(random_state=42),\n",
       "             param_grid={'class_weight': [{0: 0.6, 1: 0.4}, {0: 0.7, 1: 0.3},\n",
       "                                          {0: 0.8, 1: 0.2}],\n",
       "                         'max_depth': array([ 7,  8,  9, 10]),\n",
       "                         'min_samples_leaf': array([1, 2, 3]),\n",
       "                         'min_samples_split': array([2, 3, 4, 5]),\n",
       "                         'n_estimators': array([ 50,  60,  70,  80,  90, 100, 110, 120, 130, 140])})"
      ]
     },
     "execution_count": 42,
     "metadata": {},
     "output_type": "execute_result"
    }
   ],
   "source": [
    "# Create the Random Forest Classifier with GridSearchCV\n",
    "\n",
    "rf_model = RandomForestClassifier(random_state=42) # Add class_weight=class_weights\n",
    "grid_search = GridSearchCV(rf_model, param_grid, cv=5)\n",
    "grid_search.fit(X_train, y_train)"
   ]
  },
  {
   "cell_type": "code",
   "execution_count": 43,
   "id": "76910805",
   "metadata": {},
   "outputs": [],
   "source": [
    "# Get the best model from GridSearchCV\n",
    "best_model = grid_search.best_estimator_"
   ]
  },
  {
   "cell_type": "code",
   "execution_count": 44,
   "id": "ec8b96ad",
   "metadata": {},
   "outputs": [
    {
     "name": "stdout",
     "output_type": "stream",
     "text": [
      "RandomForestClassifier(class_weight={0: 0.6, 1: 0.4}, max_depth=7,\n",
      "                       min_samples_leaf=3, n_estimators=50, random_state=42)\n"
     ]
    }
   ],
   "source": [
    "print(best_model)"
   ]
  },
  {
   "cell_type": "code",
   "execution_count": 45,
   "id": "85e8d3b8",
   "metadata": {},
   "outputs": [],
   "source": [
    "# # Feature Importance\n",
    "# feature_importance = best_model.feature_importances_\n",
    "# feature_importance_df = pd.DataFrame({'Feature': X_train.columns, 'Importance': feature_importance})\n",
    "# feature_importance_df = feature_importance_df.sort_values('Importance', ascending=False)\n",
    "# print(\"Feature Importance:\\n\", feature_importance_df)"
   ]
  },
  {
   "cell_type": "code",
   "execution_count": 46,
   "id": "268f83b0",
   "metadata": {},
   "outputs": [],
   "source": [
    "# Predictions and Evaluation Metrics\n",
    "y_pred_train = best_model.predict(X_train)\n",
    "y_pred_test = best_model.predict(X_test)"
   ]
  },
  {
   "cell_type": "code",
   "execution_count": 47,
   "id": "a109ae12",
   "metadata": {},
   "outputs": [
    {
     "data": {
      "text/plain": [
       "76"
      ]
     },
     "execution_count": 47,
     "metadata": {},
     "output_type": "execute_result"
    }
   ],
   "source": [
    "len(y_pred_test)"
   ]
  },
  {
   "cell_type": "code",
   "execution_count": 48,
   "id": "6bc59cad",
   "metadata": {},
   "outputs": [],
   "source": [
    "accuracy_train = accuracy_score(y_train, y_pred_train)\n",
    "precision_train = precision_score(y_train, y_pred_train)\n",
    "recall_train = recall_score(y_train, y_pred_train)\n",
    "f1_train = f1_score(y_train, y_pred_train)\n",
    "roc_auc_train = roc_auc_score(y_train, y_pred_train)"
   ]
  },
  {
   "cell_type": "code",
   "execution_count": 49,
   "id": "f648137d",
   "metadata": {},
   "outputs": [],
   "source": [
    "accuracy_test = accuracy_score(y_test, y_pred_test)\n",
    "precision_test = precision_score(y_test, y_pred_test)\n",
    "recall_test = recall_score(y_test, y_pred_test)\n",
    "f1_test = f1_score(y_test, y_pred_test)\n",
    "roc_auc_test = roc_auc_score(y_test, y_pred_test)"
   ]
  },
  {
   "cell_type": "code",
   "execution_count": 50,
   "id": "9b559aed",
   "metadata": {},
   "outputs": [],
   "source": [
    "# Confusion Matrix\n",
    "confusion_matrix_train = confusion_matrix(y_train, y_pred_train)\n",
    "confusion_matrix_test = confusion_matrix(y_test, y_pred_test)"
   ]
  },
  {
   "cell_type": "code",
   "execution_count": 51,
   "id": "bfaf5bdc",
   "metadata": {},
   "outputs": [
    {
     "data": {
      "image/png": "[encoded data removed]",
      "text/plain": [
       "<Figure size 640x480 with 2 Axes>"
      ]
     },
     "metadata": {},
     "output_type": "display_data"
    }
   ],
   "source": [
    "# Plot Confusion Matrix\n",
    "def plot_confusion_matrix(cm, title):\n",
    "    sns.heatmap(cm, annot=True, fmt='d', cmap='Blues')\n",
    "    plt.title(title)\n",
    "    plt.xlabel('Predicted label')\n",
    "    plt.ylabel('True label')\n",
    "    plt.show()\n",
    "\n",
    "# plot_confusion_matrix(confusion_matrix_train, 'Confusion Matrix - Train Set')\n",
    "plot_confusion_matrix(confusion_matrix_test, 'Confusion Matrix - Test Set')"
   ]
  },
  {
   "cell_type": "code",
   "execution_count": 52,
   "id": "c4254c1c",
   "metadata": {},
   "outputs": [
    {
     "name": "stdout",
     "output_type": "stream",
     "text": [
      "Train Set:\n",
      "Accuracy: 0.9457364341085271\n",
      "Precision: 0.990909090909091\n",
      "Recall: 0.8934426229508197\n",
      "F1 Score: 0.9396551724137931\n",
      "ROC AUC Score: 0.9430448408871747\n",
      "\n",
      "Test Set:\n",
      "Accuracy: 0.6052631578947368\n",
      "Precision: 0.5806451612903226\n",
      "Recall: 0.5142857142857142\n",
      "F1 Score: 0.5454545454545455\n",
      "ROC AUC Score: 0.5986062717770034\n"
     ]
    }
   ],
   "source": [
    "# Print Evaluation Metrics\n",
    "print(\"Train Set:\")\n",
    "print(\"Accuracy:\", accuracy_train)\n",
    "print(\"Precision:\", precision_train)\n",
    "print(\"Recall:\", recall_train)\n",
    "print(\"F1 Score:\", f1_train)\n",
    "print(\"ROC AUC Score:\", roc_auc_train)\n",
    "\n",
    "print(\"\\nTest Set:\")\n",
    "print(\"Accuracy:\", accuracy_test)\n",
    "print(\"Precision:\", precision_test)\n",
    "print(\"Recall:\", recall_test)\n",
    "print(\"F1 Score:\", f1_test)\n",
    "print(\"ROC AUC Score:\", roc_auc_test)"
   ]
  },
  {
   "cell_type": "code",
   "execution_count": 53,
   "id": "ace4aa17",
   "metadata": {
    "scrolled": false
   },
   "outputs": [
    {
     "data": {
      "image/png": "[encoded data removed]",
      "text/plain": [
       "<Figure size 640x480 with 1 Axes>"
      ]
     },
     "metadata": {},
     "output_type": "display_data"
    }
   ],
   "source": [
    "# Get predicted probabilities for the positive class\n",
    "y_pred_proba_train = best_model.predict_proba(X_train)[:, 1]\n",
    "y_pred_proba_test = best_model.predict_proba(X_test)[:, 1]\n",
    "\n",
    "# Calculate the false positive rate, true positive rate, and threshold for validation set\n",
    "fpr_train, tpr_train, thresholds_train = roc_curve(y_train, y_pred_proba_train)\n",
    "\n",
    "# Calculate the false positive rate, true positive rate, and threshold for test set\n",
    "fpr_test, tpr_test, thresholds_test = roc_curve(y_test, y_pred_proba_test)\n",
    "\n",
    "# Calculate the AUC for validation set\n",
    "auc_train = roc_auc_score(y_train, y_pred_proba_train)\n",
    "\n",
    "# Calculate the AUC for test set\n",
    "auc_test = roc_auc_score(y_test, y_pred_proba_test)\n",
    "\n",
    "# Plot the ROC curve\n",
    "plt.plot(fpr_train, tpr_train, label='Train set (AUC = %0.2f)' % auc_train)\n",
    "plt.plot(fpr_test, tpr_test, label='Test set (AUC = %0.2f)' % auc_test)\n",
    "plt.plot([0, 1], [0, 1], 'k--')\n",
    "plt.xlim([0.0, 1.0])\n",
    "plt.ylim([0.0, 1.05])\n",
    "plt.xlabel('False Positive Rate')\n",
    "plt.ylabel('True Positive Rate')\n",
    "plt.title('ROC Curve')\n",
    "plt.legend(loc='lower right')\n",
    "plt.show()"
   ]
  },
  {
   "cell_type": "code",
   "execution_count": 54,
   "id": "991622ca",
   "metadata": {},
   "outputs": [
    {
     "name": "stdout",
     "output_type": "stream",
     "text": [
      "Test Set Metrics:\n",
      "               precision    recall  f1-score   support\n",
      "\n",
      "           0       0.62      0.68      0.65        41\n",
      "           1       0.58      0.51      0.55        35\n",
      "\n",
      "    accuracy                           0.61        76\n",
      "   macro avg       0.60      0.60      0.60        76\n",
      "weighted avg       0.60      0.61      0.60        76\n",
      "\n"
     ]
    }
   ],
   "source": [
    "# Predict on the test set\n",
    "y_test_pred = best_model.predict(X_test)\n",
    "\n",
    "# Calculate evaluation metrics\n",
    "classification_report_test = classification_report(y_test, y_test_pred)\n",
    "print(\"Test Set Metrics:\\n\", classification_report_test)"
   ]
  },
  {
   "cell_type": "code",
   "execution_count": 55,
   "id": "0dcd1f1f",
   "metadata": {
    "scrolled": false
   },
   "outputs": [
    {
     "data": {
      "text/plain": [
       "(327, 49)"
      ]
     },
     "execution_count": 55,
     "metadata": {},
     "output_type": "execute_result"
    }
   ],
   "source": [
    "df_F.shape"
   ]
  },
  {
   "cell_type": "code",
   "execution_count": 56,
   "id": "2630cb01",
   "metadata": {},
   "outputs": [
    {
     "data": {
      "text/plain": [
       "76"
      ]
     },
     "execution_count": 56,
     "metadata": {},
     "output_type": "execute_result"
    }
   ],
   "source": [
    "len(y_pred_proba_test)"
   ]
  },
  {
   "cell_type": "code",
   "execution_count": 57,
   "id": "aa84bf26",
   "metadata": {},
   "outputs": [
    {
     "name": "stdout",
     "output_type": "stream",
     "text": [
      "Predicted Probabilities (y_pred_proba_test): [0.6750753  0.25296709 0.24886585 0.54146523 0.42264445 0.46919779\n",
      " 0.54569452 0.50130295 0.77724982 0.74455053 0.30591687 0.4875753\n",
      " 0.40378441 0.27390176 0.62098938 0.63880956 0.72755275 0.65190216\n",
      " 0.4388879  0.76152114 0.24642055 0.32617813 0.43146661 0.15861305\n",
      " 0.1996548  0.54776822 0.65319153 0.42571917 0.42259243 0.10662669\n",
      " 0.29327378 0.57782503 0.58855888 0.29615783 0.33286697 0.32985348\n",
      " 0.12202635 0.5110639  0.25850332 0.34391218 0.68015441 0.47414882\n",
      " 0.62144908 0.42868798 0.41190835 0.48915907 0.63912895 0.15724736\n",
      " 0.54111196 0.56714679 0.49013757 0.41963951 0.12354223 0.44492311\n",
      " 0.42274214 0.23412376 0.53834902 0.48707785 0.64859426 0.37865\n",
      " 0.39566452 0.15123259 0.71967979 0.3204884  0.65841661 0.52437982\n",
      " 0.69597488 0.22899326 0.31059231 0.46357437 0.55700437 0.19536319\n",
      " 0.75783039 0.56911171 0.21145952 0.50531882]\n"
     ]
    }
   ],
   "source": [
    "# Assuming you have already calculated y_pred_proba_test using best_model.predict_proba(X_test)[:, 1]\n",
    "print(\"Predicted Probabilities (y_pred_proba_test):\", y_pred_proba_test)"
   ]
  },
  {
   "cell_type": "code",
   "execution_count": 58,
   "id": "2b91afef",
   "metadata": {},
   "outputs": [
    {
     "name": "stdout",
     "output_type": "stream",
     "text": [
      "Predicted Labels (y_pred): [1 0 0 1 0 0 1 1 1 1 0 0 0 0 1 1 1 1 0 1 0 0 0 0 0 1 1 0 0 0 0 1 1 0 0 0 0\n",
      " 1 0 0 1 0 1 0 0 0 1 0 1 1 0 0 0 0 0 0 1 0 1 0 0 0 1 0 1 1 1 0 0 0 1 0 1 1\n",
      " 0 1]\n",
      "Predicted Probabilities (y_pred_proba): [0.68 0.25 0.25 0.54 0.42 0.47 0.55 0.5  0.78 0.74 0.31 0.49 0.4  0.27\n",
      " 0.62 0.64 0.73 0.65 0.44 0.76 0.25 0.33 0.43 0.16 0.2  0.55 0.65 0.43\n",
      " 0.42 0.11 0.29 0.58 0.59 0.3  0.33 0.33 0.12 0.51 0.26 0.34 0.68 0.47\n",
      " 0.62 0.43 0.41 0.49 0.64 0.16 0.54 0.57 0.49 0.42 0.12 0.44 0.42 0.23\n",
      " 0.54 0.49 0.65 0.38 0.4  0.15 0.72 0.32 0.66 0.52 0.7  0.23 0.31 0.46\n",
      " 0.56 0.2  0.76 0.57 0.21 0.51]\n"
     ]
    }
   ],
   "source": [
    "# Threshold for classification\n",
    "threshold = 0.5\n",
    "\n",
    "# Create an array of zeros with the same length as y_test\n",
    "y_pred = np.zeros_like(y_test)\n",
    "\n",
    "# Assign 1 to indices where y_pred_proba_test is greater than or equal to the threshold\n",
    "y_pred[y_pred_proba_test >= threshold] = 1\n",
    "\n",
    "# Create y_pred_proba array by rounding the probabilities to two decimal places\n",
    "y_pred_proba = np.round(y_pred_proba_test, 2)\n",
    "\n",
    "# Print the values of y_pred and y_pred_proba\n",
    "print(\"Predicted Labels (y_pred):\", y_pred)\n",
    "print(\"Predicted Probabilities (y_pred_proba):\", y_pred_proba)"
   ]
  },
  {
   "cell_type": "code",
   "execution_count": 59,
   "id": "bcca3915",
   "metadata": {
    "scrolled": false
   },
   "outputs": [
    {
     "data": {
      "image/png": "[encoded data removed]",
      "text/plain": [
       "<Figure size 1200x2400 with 15 Axes>"
      ]
     },
     "metadata": {},
     "output_type": "display_data"
    }
   ],
   "source": [
    "# Assuming you already have y_test, y_test_pred, and y_pred_proba_test calculated\n",
    "\n",
    "thresholds = np.arange(0.1, 0.8, 0.1)  # Range of thresholds to try\n",
    "confusion_matrices = []  # List to store confusion matrices for each threshold\n",
    "\n",
    "for threshold in thresholds:\n",
    "    y_test_pred_thresholded = np.where(y_pred_proba_test > threshold, 1, 0)  # Apply threshold to get thresholded predictions\n",
    "    cm = confusion_matrix(y_test, y_test_pred_thresholded)  # Calculate confusion matrix\n",
    "    confusion_matrices.append(cm)  # Add confusion matrix to the list\n",
    "\n",
    "# Plot confusion matrices for each threshold\n",
    "num_thresholds = len(thresholds)\n",
    "num_plots_per_row = 2\n",
    "num_rows = int(np.ceil(num_thresholds / num_plots_per_row))\n",
    "fig, axes = plt.subplots(num_rows, num_plots_per_row, figsize=(12, 6*num_rows))\n",
    "\n",
    "for i, cm in enumerate(confusion_matrices):\n",
    "    row_idx = i // num_plots_per_row\n",
    "    col_idx = i % num_plots_per_row\n",
    "    ax = axes[row_idx, col_idx]\n",
    "    sns.heatmap(cm, annot=True, fmt='d', cmap='Blues', ax=ax)\n",
    "    ax.set_title(\"Threshold: {:.1f}\".format(thresholds[i]))\n",
    "    ax.set_xlabel('Predicted label')\n",
    "    ax.set_ylabel('True label')\n",
    "\n",
    "plt.tight_layout()\n",
    "plt.show()"
   ]
  },
  {
   "cell_type": "code",
   "execution_count": 60,
   "id": "73bf08f6",
   "metadata": {},
   "outputs": [],
   "source": [
    "#df_F.to_csv('Undersampled_data.csv',index=False)"
   ]
  },
  {
   "cell_type": "code",
   "execution_count": 61,
   "id": "6d1b8f61",
   "metadata": {},
   "outputs": [],
   "source": [
    "# df_F2 = pd.read_csv('Undersampled_data.csv',converters={'CIF_ID': str})"
   ]
  },
  {
   "cell_type": "code",
   "execution_count": 62,
   "id": "63cf99db",
   "metadata": {},
   "outputs": [],
   "source": [
    "# df_F2.head()"
   ]
  },
  {
   "cell_type": "code",
   "execution_count": 64,
   "id": "41bbcb10",
   "metadata": {},
   "outputs": [],
   "source": [
    "# len(y_prredh)"
   ]
  },
  {
   "cell_type": "code",
   "execution_count": 65,
   "id": "d98af965",
   "metadata": {},
   "outputs": [],
   "source": [
    "import pickle\n",
    "pickle.dump(best_model, open('best_model_2022_4.pkl', 'wb'))"
   ]
  },
  {
   "cell_type": "markdown",
   "id": "c91477ac",
   "metadata": {},
   "source": [
    "## LOGISTIC REGRESSION"
   ]
  },
  {
   "cell_type": "code",
   "execution_count": null,
   "id": "4d044b8a",
   "metadata": {},
   "outputs": [],
   "source": [
    "# Perform feature selection using logistic regression with L1 regularization\n",
    "logreg = LogisticRegression(penalty='l1', solver='liblinear')\n",
    "logreg.fit(X_train, y_train)\n",
    "model = SelectFromModel(logreg, prefit=True)\n",
    "\n",
    "# Extract selected features\n",
    "X_train_selected = model.transform(X_train)\n",
    "X_test_selected = model.transform(X_test)"
   ]
  },
  {
   "cell_type": "code",
   "execution_count": null,
   "id": "ad4a3fb9",
   "metadata": {
    "scrolled": false
   },
   "outputs": [],
   "source": [
    "# Define hyperparameters to tune\n",
    "param_grid = {'C': [0.001, 0.01, 0.1, 1, 10, 100]}\n",
    "\n",
    "# Perform grid search cross-validation\n",
    "grid_search = GridSearchCV(LogisticRegression(solver='liblinear'), param_grid, cv=5)\n",
    "grid_search.fit(X_train, y_train)\n",
    "\n",
    "# Get the best hyperparameters\n",
    "best_params = grid_search.best_params_\n",
    "\n",
    "# Train the final model with the best hyperparameters\n",
    "final_model = LogisticRegression(solver='liblinear', **best_params)\n",
    "final_model.fit(X_train, y_train)\n"
   ]
  },
  {
   "cell_type": "code",
   "execution_count": null,
   "id": "a320fb4a",
   "metadata": {
    "scrolled": true
   },
   "outputs": [],
   "source": [
    "y_pred_train = final_model.predict(X_train)\n",
    "\n",
    "# Calculate evaluation metrics\n",
    "accuracy = accuracy_score(y_train, y_pred_train)\n",
    "precision = precision_score(y_train, y_pred_train)\n",
    "recall = recall_score(y_train, y_pred_train)\n",
    "f1 = f1_score(y_train, y_pred_train)\n",
    "\n",
    "# Print evaluation metrics\n",
    "print(\"Accuracy:\", accuracy)\n",
    "print(\"Precision:\", precision)\n",
    "print(\"Recall:\", recall)\n",
    "print(\"F1 Score:\", f1)"
   ]
  },
  {
   "cell_type": "code",
   "execution_count": null,
   "id": "12fd7479",
   "metadata": {},
   "outputs": [],
   "source": [
    "y_pred_test = final_model.predict(X_test)\n",
    "\n",
    "# Calculate evaluation metrics\n",
    "accuracy_test = accuracy_score(y_test, y_pred_test)\n",
    "precision_test = precision_score(y_test, y_pred_test)\n",
    "recall_test = recall_score(y_test, y_pred_test)\n",
    "f1_test = f1_score(y_test, y_pred_test)\n",
    "roc_auc_test = roc_auc_score(y_test, y_pred_test)\n",
    "\n",
    "# Print evaluation metrics\n",
    "print(\"Test Accuracy:\", accuracy_test)\n",
    "print(\"Test Precision:\", precision_test)\n",
    "print(\"Test Recall:\", recall_test)\n",
    "print(\"Test F1 Score:\", f1_test)\n",
    "print(\"Test roc_auc:\", roc_auc_test)"
   ]
  },
  {
   "cell_type": "code",
   "execution_count": null,
   "id": "9d1a8172",
   "metadata": {},
   "outputs": [],
   "source": [
    "# Calculate confusion matrix\n",
    "cm = confusion_matrix(y_test, y_pred_test)\n",
    "\n",
    "# Visualize confusion matrix\n",
    "plt.figure(figsize=(8, 6))\n",
    "sns.heatmap(cm, annot=True, cmap='Blues')\n",
    "plt.title(\"Confusion Matrix\")\n",
    "plt.xlabel(\"Predicted Labels\")\n",
    "plt.ylabel(\"True Labels\")\n",
    "plt.show()"
   ]
  },
  {
   "cell_type": "code",
   "execution_count": null,
   "id": "619acde2",
   "metadata": {},
   "outputs": [],
   "source": [
    "from sklearn.metrics import roc_curve, roc_auc_score\n",
    "\n",
    "y_pred_proba_test = final_model.predict_proba(X_test)[:, 1]\n",
    "fpr_test, tpr_test, thresholds_test = roc_curve(y_test, y_pred_proba_test)\n",
    "auc_score_test = roc_auc_score(y_test, y_pred_proba_test)\n",
    "\n",
    "plt.plot(fpr_test, tpr_test, label='ROC curve (AUC = {:.2f})'.format(auc_score_test))\n",
    "plt.plot([0, 1], [0, 1], 'k--')  # Plotting the diagonal line\n",
    "plt.xlabel('False Positive Rate')\n",
    "plt.ylabel('True Positive Rate')\n",
    "plt.title('Receiver Operating Characteristic (ROC) Curve - Test Set')\n",
    "plt.legend(loc='lower right')\n",
    "plt.show()"
   ]
  },
  {
   "cell_type": "code",
   "execution_count": null,
   "id": "10afed84",
   "metadata": {
    "scrolled": false
   },
   "outputs": [],
   "source": [
    "feature_importance = logreg.coef_[0]\n",
    "feature_importance_df = pd.DataFrame({'Feature': X_train.columns, 'Importance': feature_importance})\n",
    "feature_importance_df = feature_importance_df.sort_values(by='Importance', ascending=False)\n",
    "print(\"Feature Importance:\\n\", feature_importance_df)"
   ]
  },
  {
   "cell_type": "code",
   "execution_count": null,
   "id": "2420e4d6",
   "metadata": {},
   "outputs": [],
   "source": [
    "# Classification report for test set\n",
    "print(\"Classification Report - Test Set\")\n",
    "print(classification_report(y_test, y_pred_test))"
   ]
  },
  {
   "cell_type": "code",
   "execution_count": null,
   "id": "f21b0af9",
   "metadata": {},
   "outputs": [],
   "source": [
    "# from sklearn.metrics import classification_report\n",
    "\n",
    "# Predict on the test set\n",
    "# y_test_pred = logreg.predict(X_test)\n",
    "\n",
    "# Calculate evaluation metrics\n",
    "# classification_report_test = classification_report(y_test, y_test_pred)\n",
    "# print(\"Test Set Metrics:\\n\", classification_report_test)\n"
   ]
  },
  {
   "cell_type": "markdown",
   "id": "cb8f2343",
   "metadata": {},
   "source": [
    "### XGBOOST Classifier"
   ]
  },
  {
   "cell_type": "code",
   "execution_count": null,
   "id": "aef15ad1",
   "metadata": {},
   "outputs": [],
   "source": [
    "xgb_classifier = xgb.XGBClassifier()"
   ]
  },
  {
   "cell_type": "code",
   "execution_count": null,
   "id": "f936ab76",
   "metadata": {},
   "outputs": [],
   "source": [
    "#Define the parameter grid for hyperparameter tuning\n",
    "param_grid = {\n",
    "    'learning_rate': np.arange(0,1,0.2),\n",
    "    'max_depth': np.arange(0,10,2),\n",
    "    'n_estimators': np.arange(50,100,10),\n",
    "    'scale_pos_weight': [1,2,3,4,5]\n",
    "}\n"
   ]
  },
  {
   "cell_type": "code",
   "execution_count": null,
   "id": "9313aeb1",
   "metadata": {},
   "outputs": [],
   "source": [
    "# Rename columns in X_train_scaled\n",
    "X_train.columns = [col.replace('[', '').replace(']', '').replace('<', '') for col in X_train.columns]\n"
   ]
  },
  {
   "cell_type": "code",
   "execution_count": null,
   "id": "e7013a8f",
   "metadata": {
    "scrolled": true
   },
   "outputs": [],
   "source": [
    "# Create the GridSearchCV object with the classifier and parameter grid\n",
    "grid_search = GridSearchCV(xgb_classifier, param_grid, cv=3, scoring='roc_auc')\n",
    "grid_search.fit(X_train, y_train)"
   ]
  },
  {
   "cell_type": "code",
   "execution_count": null,
   "id": "b4dc7f7f",
   "metadata": {},
   "outputs": [],
   "source": [
    "# Get the best hyperparameters and best score\n",
    "best_params = grid_search.best_params_\n",
    "best_score = grid_search.best_score_"
   ]
  },
  {
   "cell_type": "code",
   "execution_count": null,
   "id": "5b844eaf",
   "metadata": {},
   "outputs": [],
   "source": [
    "best_model = grid_search.best_estimator_"
   ]
  },
  {
   "cell_type": "code",
   "execution_count": null,
   "id": "f43edee2",
   "metadata": {},
   "outputs": [],
   "source": [
    "# Rename the columns in the input data to match the expected feature names\n",
    "X_test.rename(columns={\n",
    "    'no_of_inactive_months_otg_0- <3': 'no_of_inactive_months_otg_0- 3',\n",
    "    'no_of_inactive_months_otg_6- <9': 'no_of_inactive_months_otg_6- 9',\n",
    "    'no_of_inactive_months_otg_3- <6': 'no_of_inactive_months_otg_3- 6'\n",
    "}, inplace=True)"
   ]
  },
  {
   "cell_type": "code",
   "execution_count": null,
   "id": "27015648",
   "metadata": {
    "scrolled": false
   },
   "outputs": [],
   "source": [
    "# Make predictions on the test set using the best model\n",
    "y_pred = best_model.predict(X_test)"
   ]
  },
  {
   "cell_type": "code",
   "execution_count": null,
   "id": "4acb4da4",
   "metadata": {},
   "outputs": [],
   "source": [
    "# Calculate evaluation metrics\n",
    "accuracy = accuracy_score(y_test, y_pred)\n",
    "precision = precision_score(y_test, y_pred)\n",
    "recall = recall_score(y_test, y_pred)\n",
    "f1 = f1_score(y_test, y_pred)\n",
    "roc_auc = roc_auc_score(y_test, y_pred)\n",
    "\n",
    "# Print evaluation metrics\n",
    "print(\"Accuracy:\", accuracy)\n",
    "print(\"Precision:\", precision)\n",
    "print(\"Recall:\", recall)\n",
    "print(\"F1 Score:\", f1)\n",
    "print(\"ROC AUC Score:\", roc_auc)"
   ]
  },
  {
   "cell_type": "code",
   "execution_count": null,
   "id": "82a789e0",
   "metadata": {},
   "outputs": [],
   "source": [
    "classification_report = classification_report(y_test, y_pred)\n",
    "print(classification_report)"
   ]
  },
  {
   "cell_type": "code",
   "execution_count": null,
   "id": "6ecac4c9",
   "metadata": {
    "scrolled": false
   },
   "outputs": [],
   "source": [
    "# Calculate the confusion matrix for the test set\n",
    "cm_test = confusion_matrix(y_test, y_pred)\n",
    "\n",
    "# Plot the confusion matrix for the test set\n",
    "plt.figure(figsize=(8, 6))\n",
    "sns.heatmap(cm_test, annot=True, fmt='d', cmap='Blues', cbar=False)\n",
    "plt.xlabel('Predicted')\n",
    "plt.ylabel('Actual')\n",
    "plt.title('Confusion Matrix (Test Set)')\n",
    "plt.show()"
   ]
  },
  {
   "cell_type": "markdown",
   "id": "896989af",
   "metadata": {},
   "source": [
    "### TabNet --- Neural Network For Tabular Data."
   ]
  },
  {
   "cell_type": "code",
   "execution_count": null,
   "id": "2e7f48b8",
   "metadata": {},
   "outputs": [],
   "source": [
    "# Initialize and train the TABNET model\n",
    "tabnet = TabNetClassifier()\n",
    "tabnet.fit(X_train.values, y_train.values, eval_set=[(X_test.values, y_test.values)])\n",
    "\n",
    "# Evaluate the model\n",
    "y_pred = tabnet.predict(X_test.values)\n",
    "accuracy = (y_pred == y_test.values).mean()\n",
    "print(\"Accuracy:\", accuracy)"
   ]
  },
  {
   "cell_type": "code",
   "execution_count": null,
   "id": "ba6e7d4a",
   "metadata": {},
   "outputs": [],
   "source": []
  }
 ],
 "metadata": {
  "kernelspec": {
   "display_name": "Python 3 (ipykernel)",
   "language": "python",
   "name": "python3"
  },
  "language_info": {
   "codemirror_mode": {
    "name": "ipython",
    "version": 3
   },
   "file_extension": ".py",
   "mimetype": "text/x-python",
   "name": "python",
   "nbconvert_exporter": "python",
   "pygments_lexer": "ipython3",
   "version": "3.9.13"
  }
 },
 "nbformat": 4,
 "nbformat_minor": 5
}
